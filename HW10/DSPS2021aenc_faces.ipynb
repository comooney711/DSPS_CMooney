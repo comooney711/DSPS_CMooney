{
  "nbformat": 4,
  "nbformat_minor": 0,
  "metadata": {
    "colab": {
      "name": "DSPS2021aenc_faces.ipynb",
      "provenance": [],
      "collapsed_sections": [
        "YuzhtLfG8RWz"
      ],
      "include_colab_link": true
    },
    "kernelspec": {
      "name": "python3",
      "display_name": "Python 3"
    },
    "accelerator": "GPU"
  },
  "cells": [
    {
      "cell_type": "markdown",
      "metadata": {
        "id": "view-in-github",
        "colab_type": "text"
      },
      "source": [
        "<a href=\"https://colab.research.google.com/github/comooney711/DSPS_CMooney/blob/main/HW10/DSPS2021aenc_faces.ipynb\" target=\"_parent\"><img src=\"https://colab.research.google.com/assets/colab-badge.svg\" alt=\"Open In Colab\"/></a>"
      ]
    },
    {
      "cell_type": "markdown",
      "metadata": {
        "id": "tGod4GR2FMSH"
      },
      "source": [
        "author FBB for DSPS2021"
      ]
    },
    {
      "cell_type": "markdown",
      "metadata": {
        "id": "cKP3gIx3EN7_"
      },
      "source": [
        "# Autoencoder notebook \n",
        "create superresolution portraits from low resolution black and white images:\n",
        "- load a patch of images and lower the resolution\n",
        "- build an autoencoder with a bottleneck layer much smaller thn the number of pixels in an image\n",
        "- pass the lower resolution images as imput and the higher resolution images as output\n",
        "- ask the encoder to predict high resolution images from low resolution ones\n",
        "- test it on a headshot of yourself"
      ]
    },
    {
      "cell_type": "code",
      "metadata": {
        "id": "PS9BF8xoAaBJ",
        "colab": {
          "base_uri": "https://localhost:8080/"
        },
        "outputId": "a7046a0d-076b-4009-89ea-28d86ba0d26e"
      },
      "source": [
        "from google.colab import drive\n",
        "\n",
        "drive.mount(\"/content/gdrive\")\n"
      ],
      "execution_count": null,
      "outputs": [
        {
          "output_type": "stream",
          "name": "stdout",
          "text": [
            "Mounted at /content/gdrive\n"
          ]
        }
      ]
    },
    {
      "cell_type": "code",
      "metadata": {
        "id": "ka6VAkT6DZHM"
      },
      "source": [
        "from keras.models import Sequential\n",
        "from keras.layers import Dense#, Dropout, Flatten\n",
        "#from keras.layers import Conv2D, MaxPooling2D\n",
        "from keras import backend as K\n"
      ],
      "execution_count": null,
      "outputs": []
    },
    {
      "cell_type": "code",
      "metadata": {
        "id": "RVJyom6NZbaP",
        "colab": {
          "base_uri": "https://localhost:8080/"
        },
        "outputId": "a3e17c31-5619-4c2c-b8cb-ac61b73415d1"
      },
      "source": [
        "import glob\n",
        "import h5py\n",
        "from PIL import Image\n",
        "import numpy as np\n",
        "import pylab as pl\n",
        "%pylab inline\n",
        "from sklearn.model_selection import train_test_split"
      ],
      "execution_count": null,
      "outputs": [
        {
          "output_type": "stream",
          "name": "stdout",
          "text": [
            "Populating the interactive namespace from numpy and matplotlib\n"
          ]
        },
        {
          "output_type": "stream",
          "name": "stderr",
          "text": [
            "/usr/local/lib/python3.7/dist-packages/IPython/core/magics/pylab.py:161: UserWarning: pylab import has clobbered these variables: ['step', 'f']\n",
            "`%matplotlib` prevents importing * from pylab and numpy\n",
            "  \"\\n`%matplotlib` prevents importing * from pylab and numpy\"\n"
          ]
        }
      ]
    },
    {
      "cell_type": "code",
      "metadata": {
        "id": "yJwQjk5zHsko",
        "colab": {
          "base_uri": "https://localhost:8080/"
        },
        "outputId": "bb427edf-d038-4671-d090-a3f0319763f3"
      },
      "source": [
        "cd /content/gdrive/Shareddrives/\n"
      ],
      "execution_count": null,
      "outputs": [
        {
          "output_type": "stream",
          "name": "stdout",
          "text": [
            "/content/gdrive/Shareddrives\n"
          ]
        }
      ]
    },
    {
      "cell_type": "code",
      "metadata": {
        "id": "UIcrN-B8Hi-H",
        "colab": {
          "base_uri": "https://localhost:8080/"
        },
        "outputId": "cb02e6ff-defd-47a4-e6cf-3f05254d7014"
      },
      "source": [
        "ls"
      ],
      "execution_count": null,
      "outputs": [
        {
          "output_type": "stream",
          "name": "stdout",
          "text": [
            "\u001b[0m\u001b[01;34mDSPS2021\u001b[0m/  \u001b[01;34mphys201_s21\u001b[0m/\n"
          ]
        }
      ]
    },
    {
      "cell_type": "code",
      "metadata": {
        "colab": {
          "base_uri": "https://localhost:8080/"
        },
        "id": "JwWaYkNAaDbp",
        "outputId": "b364fb3e-5f90-493a-8ff7-9044cbb7bf05"
      },
      "source": [
        "cd  DSPS2021/"
      ],
      "execution_count": null,
      "outputs": [
        {
          "output_type": "stream",
          "name": "stdout",
          "text": [
            "/content/gdrive/Shareddrives/DSPS2021\n"
          ]
        }
      ]
    },
    {
      "cell_type": "markdown",
      "metadata": {
        "id": "F56R_CzCZfpu"
      },
      "source": [
        "# 1A  (661) load head shots from known training data - skip to 1B to load images already read in\n",
        "The first time you will need to dowbload faces95.zip. Uncomment the 2 lines of code below"
      ]
    },
    {
      "cell_type": "code",
      "metadata": {
        "id": "dRV0Y1k3I5F_"
      },
      "source": [
        "# this link no longer works due to the backlash of the algorithm that whitened Obama\n",
        "# but I saved the data in our shared drive\n",
        "#!wget http://www.cl.cam.ac.uk/Research/DTG/attarchive/pub/data/att_faces.zip\n"
      ],
      "execution_count": null,
      "outputs": []
    },
    {
      "cell_type": "code",
      "metadata": {
        "id": "K2-EXkwUGVlA"
      },
      "source": [
        "#!unzip faces95.zip"
      ],
      "execution_count": null,
      "outputs": []
    },
    {
      "cell_type": "code",
      "metadata": {
        "id": "_PBLU_0kGVgW",
        "colab": {
          "base_uri": "https://localhost:8080/"
        },
        "outputId": "70ad350f-adf7-4b85-b69d-fa4824f51850"
      },
      "source": [
        "!ls data/faces95/*jpg"
      ],
      "execution_count": null,
      "outputs": [
        {
          "output_type": "stream",
          "name": "stdout",
          "text": [
            "data/faces95/adhast.10.jpg  data/faces95/llambr.10.jpg\n",
            "data/faces95/adhast.11.jpg  data/faces95/llambr.11.jpg\n",
            "data/faces95/adhast.12.jpg  data/faces95/llambr.12.jpg\n",
            "data/faces95/adhast.13.jpg  data/faces95/llambr.13.jpg\n",
            "data/faces95/adhast.14.jpg  data/faces95/llambr.14.jpg\n",
            "data/faces95/adhast.15.jpg  data/faces95/llambr.15.jpg\n",
            "data/faces95/adhast.16.jpg  data/faces95/llambr.16.jpg\n",
            "data/faces95/adhast.17.jpg  data/faces95/llambr.17.jpg\n",
            "data/faces95/adhast.18.jpg  data/faces95/llambr.18.jpg\n",
            "data/faces95/adhast.19.jpg  data/faces95/llambr.19.jpg\n",
            "data/faces95/adhast.1.jpg   data/faces95/llambr.1.jpg\n",
            "data/faces95/adhast.20.jpg  data/faces95/llambr.20.jpg\n",
            "data/faces95/adhast.2.jpg   data/faces95/llambr.2.jpg\n",
            "data/faces95/adhast.3.jpg   data/faces95/llambr.3.jpg\n",
            "data/faces95/adhast.4.jpg   data/faces95/llambr.4.jpg\n",
            "data/faces95/adhast.5.jpg   data/faces95/llambr.5.jpg\n",
            "data/faces95/adhast.6.jpg   data/faces95/llambr.6.jpg\n",
            "data/faces95/adhast.7.jpg   data/faces95/llambr.7.jpg\n",
            "data/faces95/adhast.8.jpg   data/faces95/llambr.8.jpg\n",
            "data/faces95/adhast.9.jpg   data/faces95/llambr.9.jpg\n",
            "data/faces95/ajbake.10.jpg  data/faces95/matth.10.jpg\n",
            "data/faces95/ajbake.11.jpg  data/faces95/matth.11.jpg\n",
            "data/faces95/ajbake.12.jpg  data/faces95/matth.12.jpg\n",
            "data/faces95/ajbake.13.jpg  data/faces95/matth.13.jpg\n",
            "data/faces95/ajbake.14.jpg  data/faces95/matth.14.jpg\n",
            "data/faces95/ajbake.15.jpg  data/faces95/matth.15.jpg\n",
            "data/faces95/ajbake.16.jpg  data/faces95/matth.16.jpg\n",
            "data/faces95/ajbake.17.jpg  data/faces95/matth.17.jpg\n",
            "data/faces95/ajbake.18.jpg  data/faces95/matth.18.jpg\n",
            "data/faces95/ajbake.19.jpg  data/faces95/matth.19.jpg\n",
            "data/faces95/ajbake.1.jpg   data/faces95/matth.1.jpg\n",
            "data/faces95/ajbake.20.jpg  data/faces95/matth.20.jpg\n",
            "data/faces95/ajbake.2.jpg   data/faces95/matth.2.jpg\n",
            "data/faces95/ajbake.3.jpg   data/faces95/matth.3.jpg\n",
            "data/faces95/ajbake.4.jpg   data/faces95/matth.4.jpg\n",
            "data/faces95/ajbake.5.jpg   data/faces95/matth.5.jpg\n",
            "data/faces95/ajbake.6.jpg   data/faces95/matth.6.jpg\n",
            "data/faces95/ajbake.7.jpg   data/faces95/matth.7.jpg\n",
            "data/faces95/ajbake.8.jpg   data/faces95/matth.8.jpg\n",
            "data/faces95/ajbake.9.jpg   data/faces95/matth.9.jpg\n",
            "data/faces95/apapou.10.jpg  data/faces95/mdchud.10.jpg\n",
            "data/faces95/apapou.11.jpg  data/faces95/mdchud.11.jpg\n",
            "data/faces95/apapou.12.jpg  data/faces95/mdchud.12.jpg\n",
            "data/faces95/apapou.13.jpg  data/faces95/mdchud.13.jpg\n",
            "data/faces95/apapou.14.jpg  data/faces95/mdchud.14.jpg\n",
            "data/faces95/apapou.15.jpg  data/faces95/mdchud.15.jpg\n",
            "data/faces95/apapou.16.jpg  data/faces95/mdchud.16.jpg\n",
            "data/faces95/apapou.17.jpg  data/faces95/mdchud.17.jpg\n",
            "data/faces95/apapou.18.jpg  data/faces95/mdchud.18.jpg\n",
            "data/faces95/apapou.19.jpg  data/faces95/mdchud.19.jpg\n",
            "data/faces95/apapou.1.jpg   data/faces95/mdchud.1.jpg\n",
            "data/faces95/apapou.20.jpg  data/faces95/mdchud.20.jpg\n",
            "data/faces95/apapou.2.jpg   data/faces95/mdchud.2.jpg\n",
            "data/faces95/apapou.3.jpg   data/faces95/mdchud.3.jpg\n",
            "data/faces95/apapou.4.jpg   data/faces95/mdchud.4.jpg\n",
            "data/faces95/apapou.5.jpg   data/faces95/mdchud.5.jpg\n",
            "data/faces95/apapou.6.jpg   data/faces95/mdchud.6.jpg\n",
            "data/faces95/apapou.7.jpg   data/faces95/mdchud.7.jpg\n",
            "data/faces95/apapou.8.jpg   data/faces95/mdchud.8.jpg\n",
            "data/faces95/apapou.9.jpg   data/faces95/mdchud.9.jpg\n",
            "data/faces95/apdavi.10.jpg  data/faces95/mizli.10.jpg\n",
            "data/faces95/apdavi.11.jpg  data/faces95/mizli.11.jpg\n",
            "data/faces95/apdavi.12.jpg  data/faces95/mizli.12.jpg\n",
            "data/faces95/apdavi.13.jpg  data/faces95/mizli.13.jpg\n",
            "data/faces95/apdavi.14.jpg  data/faces95/mizli.14.jpg\n",
            "data/faces95/apdavi.15.jpg  data/faces95/mizli.15.jpg\n",
            "data/faces95/apdavi.16.jpg  data/faces95/mizli.16.jpg\n",
            "data/faces95/apdavi.17.jpg  data/faces95/mizli.17.jpg\n",
            "data/faces95/apdavi.18.jpg  data/faces95/mizli.18.jpg\n",
            "data/faces95/apdavi.19.jpg  data/faces95/mizli.19.jpg\n",
            "data/faces95/apdavi.1.jpg   data/faces95/mizli.1.jpg\n",
            "data/faces95/apdavi.20.jpg  data/faces95/mizli.20.jpg\n",
            "data/faces95/apdavi.2.jpg   data/faces95/mizli.2.jpg\n",
            "data/faces95/apdavi.3.jpg   data/faces95/mizli.3.jpg\n",
            "data/faces95/apdavi.4.jpg   data/faces95/mizli.4.jpg\n",
            "data/faces95/apdavi.5.jpg   data/faces95/mizli.5.jpg\n",
            "data/faces95/apdavi.6.jpg   data/faces95/mizli.6.jpg\n",
            "data/faces95/apdavi.7.jpg   data/faces95/mizli.7.jpg\n",
            "data/faces95/apdavi.8.jpg   data/faces95/mizli.8.jpg\n",
            "data/faces95/apdavi.9.jpg   data/faces95/mizli.9.jpg\n",
            "data/faces95/ardper.10.jpg  data/faces95/mkosto.10.jpg\n",
            "data/faces95/ardper.11.jpg  data/faces95/mkosto.11.jpg\n",
            "data/faces95/ardper.12.jpg  data/faces95/mkosto.12.jpg\n",
            "data/faces95/ardper.13.jpg  data/faces95/mkosto.13.jpg\n",
            "data/faces95/ardper.14.jpg  data/faces95/mkosto.14.jpg\n",
            "data/faces95/ardper.15.jpg  data/faces95/mkosto.15.jpg\n",
            "data/faces95/ardper.16.jpg  data/faces95/mkosto.16.jpg\n",
            "data/faces95/ardper.17.jpg  data/faces95/mkosto.17.jpg\n",
            "data/faces95/ardper.18.jpg  data/faces95/mkosto.18.jpg\n",
            "data/faces95/ardper.19.jpg  data/faces95/mkosto.19.jpg\n",
            "data/faces95/ardper.1.jpg   data/faces95/mkosto.1.jpg\n",
            "data/faces95/ardper.20.jpg  data/faces95/mkosto.20.jpg\n",
            "data/faces95/ardper.2.jpg   data/faces95/mkosto.2.jpg\n",
            "data/faces95/ardper.3.jpg   data/faces95/mkosto.3.jpg\n",
            "data/faces95/ardper.4.jpg   data/faces95/mkosto.4.jpg\n",
            "data/faces95/ardper.5.jpg   data/faces95/mkosto.5.jpg\n",
            "data/faces95/ardper.6.jpg   data/faces95/mkosto.6.jpg\n",
            "data/faces95/ardper.7.jpg   data/faces95/mkosto.7.jpg\n",
            "data/faces95/ardper.8.jpg   data/faces95/mkosto.8.jpg\n",
            "data/faces95/ardper.9.jpg   data/faces95/mkosto.9.jpg\n",
            "data/faces95/awjsud.10.jpg  data/faces95/mrhami.10.jpg\n",
            "data/faces95/awjsud.11.jpg  data/faces95/mrhami.11.jpg\n",
            "data/faces95/awjsud.12.jpg  data/faces95/mrhami.12.jpg\n",
            "data/faces95/awjsud.13.jpg  data/faces95/mrhami.13.jpg\n",
            "data/faces95/awjsud.14.jpg  data/faces95/mrhami.14.jpg\n",
            "data/faces95/awjsud.15.jpg  data/faces95/mrhami.15.jpg\n",
            "data/faces95/awjsud.16.jpg  data/faces95/mrhami.16.jpg\n",
            "data/faces95/awjsud.17.jpg  data/faces95/mrhami.17.jpg\n",
            "data/faces95/awjsud.18.jpg  data/faces95/mrhami.18.jpg\n",
            "data/faces95/awjsud.19.jpg  data/faces95/mrhami.19.jpg\n",
            "data/faces95/awjsud.1.jpg   data/faces95/mrhami.1.jpg\n",
            "data/faces95/awjsud.20.jpg  data/faces95/mrhami.20.jpg\n",
            "data/faces95/awjsud.2.jpg   data/faces95/mrhami.2.jpg\n",
            "data/faces95/awjsud.3.jpg   data/faces95/mrhami.3.jpg\n",
            "data/faces95/awjsud.4.jpg   data/faces95/mrhami.4.jpg\n",
            "data/faces95/awjsud.5.jpg   data/faces95/mrhami.5.jpg\n",
            "data/faces95/awjsud.6.jpg   data/faces95/mrhami.6.jpg\n",
            "data/faces95/awjsud.7.jpg   data/faces95/mrhami.7.jpg\n",
            "data/faces95/awjsud.8.jpg   data/faces95/mrhami.8.jpg\n",
            "data/faces95/awjsud.9.jpg   data/faces95/mrhami.9.jpg\n",
            "data/faces95/boylee.10.jpg  data/faces95/namart.10.jpg\n",
            "data/faces95/boylee.11.jpg  data/faces95/namart.11.jpg\n",
            "data/faces95/boylee.12.jpg  data/faces95/namart.12.jpg\n",
            "data/faces95/boylee.13.jpg  data/faces95/namart.13.jpg\n",
            "data/faces95/boylee.14.jpg  data/faces95/namart.14.jpg\n",
            "data/faces95/boylee.15.jpg  data/faces95/namart.15.jpg\n",
            "data/faces95/boylee.16.jpg  data/faces95/namart.16.jpg\n",
            "data/faces95/boylee.17.jpg  data/faces95/namart.17.jpg\n",
            "data/faces95/boylee.18.jpg  data/faces95/namart.18.jpg\n",
            "data/faces95/boylee.19.jpg  data/faces95/namart.19.jpg\n",
            "data/faces95/boylee.1.jpg   data/faces95/namart.1.jpg\n",
            "data/faces95/boylee.20.jpg  data/faces95/namart.20.jpg\n",
            "data/faces95/boylee.2.jpg   data/faces95/namart.2.jpg\n",
            "data/faces95/boylee.3.jpg   data/faces95/namart.3.jpg\n",
            "data/faces95/boylee.4.jpg   data/faces95/namart.4.jpg\n",
            "data/faces95/boylee.5.jpg   data/faces95/namart.5.jpg\n",
            "data/faces95/boylee.6.jpg   data/faces95/namart.6.jpg\n",
            "data/faces95/boylee.7.jpg   data/faces95/namart.7.jpg\n",
            "data/faces95/boylee.8.jpg   data/faces95/namart.8.jpg\n",
            "data/faces95/boylee.9.jpg   data/faces95/namart.9.jpg\n",
            "data/faces95/bschap.10.jpg  data/faces95/ogefen.10.jpg\n",
            "data/faces95/bschap.11.jpg  data/faces95/ogefen.11.jpg\n",
            "data/faces95/bschap.12.jpg  data/faces95/ogefen.12.jpg\n",
            "data/faces95/bschap.13.jpg  data/faces95/ogefen.13.jpg\n",
            "data/faces95/bschap.14.jpg  data/faces95/ogefen.14.jpg\n",
            "data/faces95/bschap.15.jpg  data/faces95/ogefen.15.jpg\n",
            "data/faces95/bschap.16.jpg  data/faces95/ogefen.16.jpg\n",
            "data/faces95/bschap.17.jpg  data/faces95/ogefen.17.jpg\n",
            "data/faces95/bschap.18.jpg  data/faces95/ogefen.18.jpg\n",
            "data/faces95/bschap.19.jpg  data/faces95/ogefen.19.jpg\n",
            "data/faces95/bschap.1.jpg   data/faces95/ogefen.1.jpg\n",
            "data/faces95/bschap.20.jpg  data/faces95/ogefen.20.jpg\n",
            "data/faces95/bschap.2.jpg   data/faces95/ogefen.2.jpg\n",
            "data/faces95/bschap.3.jpg   data/faces95/ogefen.3.jpg\n",
            "data/faces95/bschap.4.jpg   data/faces95/ogefen.4.jpg\n",
            "data/faces95/bschap.5.jpg   data/faces95/ogefen.5.jpg\n",
            "data/faces95/bschap.6.jpg   data/faces95/ogefen.6.jpg\n",
            "data/faces95/bschap.7.jpg   data/faces95/ogefen.7.jpg\n",
            "data/faces95/bschap.8.jpg   data/faces95/ogefen.8.jpg\n",
            "data/faces95/bschap.9.jpg   data/faces95/ogefen.9.jpg\n",
            "data/faces95/cadugd.10.jpg  data/faces95/padnor.10.jpg\n",
            "data/faces95/cadugd.11.jpg  data/faces95/padnor.11.jpg\n",
            "data/faces95/cadugd.12.jpg  data/faces95/padnor.12.jpg\n",
            "data/faces95/cadugd.13.jpg  data/faces95/padnor.13.jpg\n",
            "data/faces95/cadugd.14.jpg  data/faces95/padnor.14.jpg\n",
            "data/faces95/cadugd.15.jpg  data/faces95/padnor.15.jpg\n",
            "data/faces95/cadugd.16.jpg  data/faces95/padnor.16.jpg\n",
            "data/faces95/cadugd.17.jpg  data/faces95/padnor.17.jpg\n",
            "data/faces95/cadugd.18.jpg  data/faces95/padnor.18.jpg\n",
            "data/faces95/cadugd.19.jpg  data/faces95/padnor.19.jpg\n",
            "data/faces95/cadugd.1.jpg   data/faces95/padnor.1.jpg\n",
            "data/faces95/cadugd.20.jpg  data/faces95/padnor.20.jpg\n",
            "data/faces95/cadugd.2.jpg   data/faces95/padnor.2.jpg\n",
            "data/faces95/cadugd.3.jpg   data/faces95/padnor.3.jpg\n",
            "data/faces95/cadugd.4.jpg   data/faces95/padnor.4.jpg\n",
            "data/faces95/cadugd.5.jpg   data/faces95/padnor.5.jpg\n",
            "data/faces95/cadugd.6.jpg   data/faces95/padnor.6.jpg\n",
            "data/faces95/cadugd.7.jpg   data/faces95/padnor.7.jpg\n",
            "data/faces95/cadugd.8.jpg   data/faces95/padnor.8.jpg\n",
            "data/faces95/cadugd.9.jpg   data/faces95/padnor.9.jpg\n",
            "data/faces95/cdlarg.10.jpg  data/faces95/pajaco.10.jpg\n",
            "data/faces95/cdlarg.11.jpg  data/faces95/pajaco.11.jpg\n",
            "data/faces95/cdlarg.12.jpg  data/faces95/pajaco.12.jpg\n",
            "data/faces95/cdlarg.13.jpg  data/faces95/pajaco.13.jpg\n",
            "data/faces95/cdlarg.14.jpg  data/faces95/pajaco.14.jpg\n",
            "data/faces95/cdlarg.15.jpg  data/faces95/pajaco.15.jpg\n",
            "data/faces95/cdlarg.16.jpg  data/faces95/pajaco.16.jpg\n",
            "data/faces95/cdlarg.17.jpg  data/faces95/pajaco.17.jpg\n",
            "data/faces95/cdlarg.18.jpg  data/faces95/pajaco.18.jpg\n",
            "data/faces95/cdlarg.19.jpg  data/faces95/pajaco.19.jpg\n",
            "data/faces95/cdlarg.1.jpg   data/faces95/pajaco.1.jpg\n",
            "data/faces95/cdlarg.20.jpg  data/faces95/pajaco.20.jpg\n",
            "data/faces95/cdlarg.2.jpg   data/faces95/pajaco.2.jpg\n",
            "data/faces95/cdlarg.3.jpg   data/faces95/pajaco.3.jpg\n",
            "data/faces95/cdlarg.4.jpg   data/faces95/pajaco.4.jpg\n",
            "data/faces95/cdlarg.5.jpg   data/faces95/pajaco.5.jpg\n",
            "data/faces95/cdlarg.6.jpg   data/faces95/pajaco.6.jpg\n",
            "data/faces95/cdlarg.7.jpg   data/faces95/pajaco.7.jpg\n",
            "data/faces95/cdlarg.8.jpg   data/faces95/pajaco.8.jpg\n",
            "data/faces95/cdlarg.9.jpg   data/faces95/pajaco.9.jpg\n",
            "data/faces95/cfloro.10.jpg  data/faces95/papad.10.jpg\n",
            "data/faces95/cfloro.11.jpg  data/faces95/papad.11.jpg\n",
            "data/faces95/cfloro.12.jpg  data/faces95/papad.12.jpg\n",
            "data/faces95/cfloro.13.jpg  data/faces95/papad.13.jpg\n",
            "data/faces95/cfloro.14.jpg  data/faces95/papad.14.jpg\n",
            "data/faces95/cfloro.15.jpg  data/faces95/papad.15.jpg\n",
            "data/faces95/cfloro.16.jpg  data/faces95/papad.16.jpg\n",
            "data/faces95/cfloro.17.jpg  data/faces95/papad.17.jpg\n",
            "data/faces95/cfloro.18.jpg  data/faces95/papad.18.jpg\n",
            "data/faces95/cfloro.19.jpg  data/faces95/papad.19.jpg\n",
            "data/faces95/cfloro.1.jpg   data/faces95/papad.1.jpg\n",
            "data/faces95/cfloro.20.jpg  data/faces95/papad.20.jpg\n",
            "data/faces95/cfloro.2.jpg   data/faces95/papad.2.jpg\n",
            "data/faces95/cfloro.3.jpg   data/faces95/papad.3.jpg\n",
            "data/faces95/cfloro.4.jpg   data/faces95/papad.4.jpg\n",
            "data/faces95/cfloro.5.jpg   data/faces95/papad.5.jpg\n",
            "data/faces95/cfloro.6.jpg   data/faces95/papad.6.jpg\n",
            "data/faces95/cfloro.7.jpg   data/faces95/papad.7.jpg\n",
            "data/faces95/cfloro.8.jpg   data/faces95/papad.8.jpg\n",
            "data/faces95/cfloro.9.jpg   data/faces95/papad.9.jpg\n",
            "data/faces95/cladam.10.jpg  data/faces95/pcfry.10.jpg\n",
            "data/faces95/cladam.11.jpg  data/faces95/pcfry.11.jpg\n",
            "data/faces95/cladam.12.jpg  data/faces95/pcfry.12.jpg\n",
            "data/faces95/cladam.13.jpg  data/faces95/pcfry.13.jpg\n",
            "data/faces95/cladam.14.jpg  data/faces95/pcfry.14.jpg\n",
            "data/faces95/cladam.15.jpg  data/faces95/pcfry.15.jpg\n",
            "data/faces95/cladam.16.jpg  data/faces95/pcfry.16.jpg\n",
            "data/faces95/cladam.17.jpg  data/faces95/pcfry.17.jpg\n",
            "data/faces95/cladam.18.jpg  data/faces95/pcfry.18.jpg\n",
            "data/faces95/cladam.19.jpg  data/faces95/pcfry.19.jpg\n",
            "data/faces95/cladam.1.jpg   data/faces95/pcfry.1.jpg\n",
            "data/faces95/cladam.20.jpg  data/faces95/pcfry.20.jpg\n",
            "data/faces95/cladam.2.jpg   data/faces95/pcfry.2.jpg\n",
            "data/faces95/cladam.3.jpg   data/faces95/pcfry.3.jpg\n",
            "data/faces95/cladam.4.jpg   data/faces95/pcfry.4.jpg\n",
            "data/faces95/cladam.5.jpg   data/faces95/pcfry.5.jpg\n",
            "data/faces95/cladam.6.jpg   data/faces95/pcfry.6.jpg\n",
            "data/faces95/cladam.7.jpg   data/faces95/pcfry.7.jpg\n",
            "data/faces95/cladam.8.jpg   data/faces95/pcfry.8.jpg\n",
            "data/faces95/cladam.9.jpg   data/faces95/pcfry.9.jpg\n",
            "data/faces95/cywan.10.jpg   data/faces95/pears.10.jpg\n",
            "data/faces95/cywan.11.jpg   data/faces95/pears.11.jpg\n",
            "data/faces95/cywan.12.jpg   data/faces95/pears.12.jpg\n",
            "data/faces95/cywan.13.jpg   data/faces95/pears.13.jpg\n",
            "data/faces95/cywan.14.jpg   data/faces95/pears.14.jpg\n",
            "data/faces95/cywan.15.jpg   data/faces95/pears.15.jpg\n",
            "data/faces95/cywan.16.jpg   data/faces95/pears.16.jpg\n",
            "data/faces95/cywan.17.jpg   data/faces95/pears.17.jpg\n",
            "data/faces95/cywan.18.jpg   data/faces95/pears.18.jpg\n",
            "data/faces95/cywan.19.jpg   data/faces95/pears.19.jpg\n",
            "data/faces95/cywan.1.jpg    data/faces95/pears.1.jpg\n",
            "data/faces95/cywan.20.jpg   data/faces95/pears.20.jpg\n",
            "data/faces95/cywan.2.jpg    data/faces95/pears.2.jpg\n",
            "data/faces95/cywan.3.jpg    data/faces95/pears.3.jpg\n",
            "data/faces95/cywan.4.jpg    data/faces95/pears.4.jpg\n",
            "data/faces95/cywan.5.jpg    data/faces95/pears.5.jpg\n",
            "data/faces95/cywan.6.jpg    data/faces95/pears.6.jpg\n",
            "data/faces95/cywan.7.jpg    data/faces95/pears.7.jpg\n",
            "data/faces95/cywan.8.jpg    data/faces95/pears.8.jpg\n",
            "data/faces95/cywan.9.jpg    data/faces95/pears.9.jpg\n",
            "data/faces95/dakram.10.jpg  data/faces95/pjrand.10.jpg\n",
            "data/faces95/dakram.11.jpg  data/faces95/pjrand.11.jpg\n",
            "data/faces95/dakram.12.jpg  data/faces95/pjrand.12.jpg\n",
            "data/faces95/dakram.13.jpg  data/faces95/pjrand.13.jpg\n",
            "data/faces95/dakram.14.jpg  data/faces95/pjrand.14.jpg\n",
            "data/faces95/dakram.15.jpg  data/faces95/pjrand.15.jpg\n",
            "data/faces95/dakram.16.jpg  data/faces95/pjrand.16.jpg\n",
            "data/faces95/dakram.17.jpg  data/faces95/pjrand.17.jpg\n",
            "data/faces95/dakram.18.jpg  data/faces95/pjrand.18.jpg\n",
            "data/faces95/dakram.19.jpg  data/faces95/pjrand.19.jpg\n",
            "data/faces95/dakram.1.jpg   data/faces95/pjrand.1.jpg\n",
            "data/faces95/dakram.20.jpg  data/faces95/pjrand.20.jpg\n",
            "data/faces95/dakram.2.jpg   data/faces95/pjrand.2.jpg\n",
            "data/faces95/dakram.3.jpg   data/faces95/pjrand.3.jpg\n",
            "data/faces95/dakram.4.jpg   data/faces95/pjrand.4.jpg\n",
            "data/faces95/dakram.5.jpg   data/faces95/pjrand.5.jpg\n",
            "data/faces95/dakram.6.jpg   data/faces95/pjrand.6.jpg\n",
            "data/faces95/dakram.7.jpg   data/faces95/pjrand.7.jpg\n",
            "data/faces95/dakram.8.jpg   data/faces95/pjrand.8.jpg\n",
            "data/faces95/dakram.9.jpg   data/faces95/pjrand.9.jpg\n",
            "data/faces95/damvo.10.jpg   data/faces95/rafox.10.jpg\n",
            "data/faces95/damvo.11.jpg   data/faces95/rafox.11.jpg\n",
            "data/faces95/damvo.12.jpg   data/faces95/rafox.12.jpg\n",
            "data/faces95/damvo.13.jpg   data/faces95/rafox.13.jpg\n",
            "data/faces95/damvo.14.jpg   data/faces95/rafox.14.jpg\n",
            "data/faces95/damvo.15.jpg   data/faces95/rafox.15.jpg\n",
            "data/faces95/damvo.16.jpg   data/faces95/rafox.16.jpg\n",
            "data/faces95/damvo.17.jpg   data/faces95/rafox.17.jpg\n",
            "data/faces95/damvo.18.jpg   data/faces95/rafox.18.jpg\n",
            "data/faces95/damvo.19.jpg   data/faces95/rafox.19.jpg\n",
            "data/faces95/damvo.1.jpg    data/faces95/rafox.1.jpg\n",
            "data/faces95/damvo.20.jpg   data/faces95/rafox.20.jpg\n",
            "data/faces95/damvo.2.jpg    data/faces95/rafox.2.jpg\n",
            "data/faces95/damvo.3.jpg    data/faces95/rafox.3.jpg\n",
            "data/faces95/damvo.4.jpg    data/faces95/rafox.4.jpg\n",
            "data/faces95/damvo.5.jpg    data/faces95/rafox.5.jpg\n",
            "data/faces95/damvo.6.jpg    data/faces95/rafox.6.jpg\n",
            "data/faces95/damvo.7.jpg    data/faces95/rafox.7.jpg\n",
            "data/faces95/damvo.8.jpg    data/faces95/rafox.8.jpg\n",
            "data/faces95/damvo.9.jpg    data/faces95/rafox.9.jpg\n",
            "data/faces95/darda.10.jpg   data/faces95/rhaitk.10.jpg\n",
            "data/faces95/darda.11.jpg   data/faces95/rhaitk.11.jpg\n",
            "data/faces95/darda.12.jpg   data/faces95/rhaitk.12.jpg\n",
            "data/faces95/darda.13.jpg   data/faces95/rhaitk.13.jpg\n",
            "data/faces95/darda.14.jpg   data/faces95/rhaitk.14.jpg\n",
            "data/faces95/darda.15.jpg   data/faces95/rhaitk.15.jpg\n",
            "data/faces95/darda.16.jpg   data/faces95/rhaitk.16.jpg\n",
            "data/faces95/darda.17.jpg   data/faces95/rhaitk.17.jpg\n",
            "data/faces95/darda.18.jpg   data/faces95/rhaitk.18.jpg\n",
            "data/faces95/darda.19.jpg   data/faces95/rhaitk.19.jpg\n",
            "data/faces95/darda.1.jpg    data/faces95/rhaitk.1.jpg\n",
            "data/faces95/darda.20.jpg   data/faces95/rhaitk.20.jpg\n",
            "data/faces95/darda.2.jpg    data/faces95/rhaitk.2.jpg\n",
            "data/faces95/darda.3.jpg    data/faces95/rhaitk.3.jpg\n",
            "data/faces95/darda.4.jpg    data/faces95/rhaitk.4.jpg\n",
            "data/faces95/darda.5.jpg    data/faces95/rhaitk.5.jpg\n",
            "data/faces95/darda.6.jpg    data/faces95/rhaitk.6.jpg\n",
            "data/faces95/darda.7.jpg    data/faces95/rhaitk.7.jpg\n",
            "data/faces95/darda.8.jpg    data/faces95/rhaitk.8.jpg\n",
            "data/faces95/darda.9.jpg    data/faces95/rhaitk.9.jpg\n",
            "data/faces95/dfhodd.10.jpg  data/faces95/rhnorm.10.jpg\n",
            "data/faces95/dfhodd.11.jpg  data/faces95/rhnorm.11.jpg\n",
            "data/faces95/dfhodd.12.jpg  data/faces95/rhnorm.12.jpg\n",
            "data/faces95/dfhodd.13.jpg  data/faces95/rhnorm.13.jpg\n",
            "data/faces95/dfhodd.14.jpg  data/faces95/rhnorm.14.jpg\n",
            "data/faces95/dfhodd.15.jpg  data/faces95/rhnorm.15.jpg\n",
            "data/faces95/dfhodd.16.jpg  data/faces95/rhnorm.16.jpg\n",
            "data/faces95/dfhodd.17.jpg  data/faces95/rhnorm.17.jpg\n",
            "data/faces95/dfhodd.18.jpg  data/faces95/rhnorm.18.jpg\n",
            "data/faces95/dfhodd.19.jpg  data/faces95/rhnorm.19.jpg\n",
            "data/faces95/dfhodd.1.jpg   data/faces95/rhnorm.1.jpg\n",
            "data/faces95/dfhodd.20.jpg  data/faces95/rhnorm.20.jpg\n",
            "data/faces95/dfhodd.2.jpg   data/faces95/rhnorm.2.jpg\n",
            "data/faces95/dfhodd.3.jpg   data/faces95/rhnorm.3.jpg\n",
            "data/faces95/dfhodd.4.jpg   data/faces95/rhnorm.4.jpg\n",
            "data/faces95/dfhodd.5.jpg   data/faces95/rhnorm.5.jpg\n",
            "data/faces95/dfhodd.6.jpg   data/faces95/rhnorm.6.jpg\n",
            "data/faces95/dfhodd.7.jpg   data/faces95/rhnorm.7.jpg\n",
            "data/faces95/dfhodd.8.jpg   data/faces95/rhnorm.8.jpg\n",
            "data/faces95/dfhodd.9.jpg   data/faces95/rhnorm.9.jpg\n",
            "data/faces95/dgemen.10.jpg  data/faces95/riphil.10.jpg\n",
            "data/faces95/dgemen.11.jpg  data/faces95/riphil.11.jpg\n",
            "data/faces95/dgemen.12.jpg  data/faces95/riphil.12.jpg\n",
            "data/faces95/dgemen.13.jpg  data/faces95/riphil.13.jpg\n",
            "data/faces95/dgemen.14.jpg  data/faces95/riphil.14.jpg\n",
            "data/faces95/dgemen.15.jpg  data/faces95/riphil.15.jpg\n",
            "data/faces95/dgemen.16.jpg  data/faces95/riphil.16.jpg\n",
            "data/faces95/dgemen.17.jpg  data/faces95/riphil.17.jpg\n",
            "data/faces95/dgemen.18.jpg  data/faces95/riphil.18.jpg\n",
            "data/faces95/dgemen.19.jpg  data/faces95/riphil.19.jpg\n",
            "data/faces95/dgemen.1.jpg   data/faces95/riphil.1.jpg\n",
            "data/faces95/dgemen.20.jpg  data/faces95/riphil.20.jpg\n",
            "data/faces95/dgemen.2.jpg   data/faces95/riphil.2.jpg\n",
            "data/faces95/dgemen.3.jpg   data/faces95/riphil.3.jpg\n",
            "data/faces95/dgemen.4.jpg   data/faces95/riphil.4.jpg\n",
            "data/faces95/dgemen.5.jpg   data/faces95/riphil.5.jpg\n",
            "data/faces95/dgemen.6.jpg   data/faces95/riphil.6.jpg\n",
            "data/faces95/dgemen.7.jpg   data/faces95/riphil.7.jpg\n",
            "data/faces95/dgemen.8.jpg   data/faces95/riphil.8.jpg\n",
            "data/faces95/dgemen.9.jpg   data/faces95/riphil.9.jpg\n",
            "data/faces95/gsmall.10.jpg  data/faces95/rjdunc.10.jpg\n",
            "data/faces95/gsmall.11.jpg  data/faces95/rjdunc.11.jpg\n",
            "data/faces95/gsmall.12.jpg  data/faces95/rjdunc.12.jpg\n",
            "data/faces95/gsmall.13.jpg  data/faces95/rjdunc.13.jpg\n",
            "data/faces95/gsmall.14.jpg  data/faces95/rjdunc.14.jpg\n",
            "data/faces95/gsmall.15.jpg  data/faces95/rjdunc.15.jpg\n",
            "data/faces95/gsmall.16.jpg  data/faces95/rjdunc.16.jpg\n",
            "data/faces95/gsmall.17.jpg  data/faces95/rjdunc.17.jpg\n",
            "data/faces95/gsmall.18.jpg  data/faces95/rjdunc.18.jpg\n",
            "data/faces95/gsmall.19.jpg  data/faces95/rjdunc.19.jpg\n",
            "data/faces95/gsmall.1.jpg   data/faces95/rjdunc.1.jpg\n",
            "data/faces95/gsmall.20.jpg  data/faces95/rjdunc.20.jpg\n",
            "data/faces95/gsmall.2.jpg   data/faces95/rjdunc.2.jpg\n",
            "data/faces95/gsmall.3.jpg   data/faces95/rjdunc.3.jpg\n",
            "data/faces95/gsmall.4.jpg   data/faces95/rjdunc.4.jpg\n",
            "data/faces95/gsmall.5.jpg   data/faces95/rjdunc.5.jpg\n",
            "data/faces95/gsmall.6.jpg   data/faces95/rjdunc.6.jpg\n",
            "data/faces95/gsmall.7.jpg   data/faces95/rjdunc.7.jpg\n",
            "data/faces95/gsmall.8.jpg   data/faces95/rjdunc.8.jpg\n",
            "data/faces95/gsmall.9.jpg   data/faces95/rjdunc.9.jpg\n",
            "data/faces95/gstamo.10.jpg  data/faces95/sapere.10.jpg\n",
            "data/faces95/gstamo.11.jpg  data/faces95/sapere.11.jpg\n",
            "data/faces95/gstamo.12.jpg  data/faces95/sapere.12.jpg\n",
            "data/faces95/gstamo.13.jpg  data/faces95/sapere.13.jpg\n",
            "data/faces95/gstamo.14.jpg  data/faces95/sapere.14.jpg\n",
            "data/faces95/gstamo.15.jpg  data/faces95/sapere.15.jpg\n",
            "data/faces95/gstamo.16.jpg  data/faces95/sapere.16.jpg\n",
            "data/faces95/gstamo.17.jpg  data/faces95/sapere.17.jpg\n",
            "data/faces95/gstamo.18.jpg  data/faces95/sapere.18.jpg\n",
            "data/faces95/gstamo.19.jpg  data/faces95/sapere.19.jpg\n",
            "data/faces95/gstamo.1.jpg   data/faces95/sapere.1.jpg\n",
            "data/faces95/gstamo.20.jpg  data/faces95/sapere.20.jpg\n",
            "data/faces95/gstamo.2.jpg   data/faces95/sapere.2.jpg\n",
            "data/faces95/gstamo.3.jpg   data/faces95/sapere.3.jpg\n",
            "data/faces95/gstamo.4.jpg   data/faces95/sapere.4.jpg\n",
            "data/faces95/gstamo.5.jpg   data/faces95/sapere.5.jpg\n",
            "data/faces95/gstamo.6.jpg   data/faces95/sapere.6.jpg\n",
            "data/faces95/gstamo.7.jpg   data/faces95/sapere.7.jpg\n",
            "data/faces95/gstamo.8.jpg   data/faces95/sapere.8.jpg\n",
            "data/faces95/gstamo.9.jpg   data/faces95/sapere.9.jpg\n",
            "data/faces95/gsvird.10.jpg  data/faces95/sdwall.10.jpg\n",
            "data/faces95/gsvird.11.jpg  data/faces95/sdwall.11.jpg\n",
            "data/faces95/gsvird.12.jpg  data/faces95/sdwall.12.jpg\n",
            "data/faces95/gsvird.13.jpg  data/faces95/sdwall.13.jpg\n",
            "data/faces95/gsvird.14.jpg  data/faces95/sdwall.14.jpg\n",
            "data/faces95/gsvird.15.jpg  data/faces95/sdwall.15.jpg\n",
            "data/faces95/gsvird.16.jpg  data/faces95/sdwall.16.jpg\n",
            "data/faces95/gsvird.17.jpg  data/faces95/sdwall.17.jpg\n",
            "data/faces95/gsvird.18.jpg  data/faces95/sdwall.18.jpg\n",
            "data/faces95/gsvird.19.jpg  data/faces95/sdwall.19.jpg\n",
            "data/faces95/gsvird.1.jpg   data/faces95/sdwall.1.jpg\n",
            "data/faces95/gsvird.20.jpg  data/faces95/sdwall.20.jpg\n",
            "data/faces95/gsvird.2.jpg   data/faces95/sdwall.2.jpg\n",
            "data/faces95/gsvird.3.jpg   data/faces95/sdwall.3.jpg\n",
            "data/faces95/gsvird.4.jpg   data/faces95/sdwall.4.jpg\n",
            "data/faces95/gsvird.5.jpg   data/faces95/sdwall.5.jpg\n",
            "data/faces95/gsvird.6.jpg   data/faces95/sdwall.6.jpg\n",
            "data/faces95/gsvird.7.jpg   data/faces95/sdwall.7.jpg\n",
            "data/faces95/gsvird.8.jpg   data/faces95/sdwall.8.jpg\n",
            "data/faces95/gsvird.9.jpg   data/faces95/sdwall.9.jpg\n",
            "data/faces95/hcarpe.10.jpg  data/faces95/sgjday.10.jpg\n",
            "data/faces95/hcarpe.11.jpg  data/faces95/sgjday.11.jpg\n",
            "data/faces95/hcarpe.12.jpg  data/faces95/sgjday.12.jpg\n",
            "data/faces95/hcarpe.13.jpg  data/faces95/sgjday.13.jpg\n",
            "data/faces95/hcarpe.14.jpg  data/faces95/sgjday.14.jpg\n",
            "data/faces95/hcarpe.15.jpg  data/faces95/sgjday.15.jpg\n",
            "data/faces95/hcarpe.16.jpg  data/faces95/sgjday.16.jpg\n",
            "data/faces95/hcarpe.17.jpg  data/faces95/sgjday.17.jpg\n",
            "data/faces95/hcarpe.18.jpg  data/faces95/sgjday.18.jpg\n",
            "data/faces95/hcarpe.19.jpg  data/faces95/sgjday.19.jpg\n",
            "data/faces95/hcarpe.1.jpg   data/faces95/sgjday.1.jpg\n",
            "data/faces95/hcarpe.20.jpg  data/faces95/sgjday.20.jpg\n",
            "data/faces95/hcarpe.2.jpg   data/faces95/sgjday.2.jpg\n",
            "data/faces95/hcarpe.3.jpg   data/faces95/sgjday.3.jpg\n",
            "data/faces95/hcarpe.4.jpg   data/faces95/sgjday.4.jpg\n",
            "data/faces95/hcarpe.5.jpg   data/faces95/sgjday.5.jpg\n",
            "data/faces95/hcarpe.6.jpg   data/faces95/sgjday.6.jpg\n",
            "data/faces95/hcarpe.7.jpg   data/faces95/sgjday.7.jpg\n",
            "data/faces95/hcarpe.8.jpg   data/faces95/sgjday.8.jpg\n",
            "data/faces95/hcarpe.9.jpg   data/faces95/sgjday.9.jpg\n",
            "data/faces95/howar.10.jpg   data/faces95/sherbe.10.jpg\n",
            "data/faces95/howar.11.jpg   data/faces95/sherbe.11.jpg\n",
            "data/faces95/howar.12.jpg   data/faces95/sherbe.12.jpg\n",
            "data/faces95/howar.13.jpg   data/faces95/sherbe.13.jpg\n",
            "data/faces95/howar.14.jpg   data/faces95/sherbe.14.jpg\n",
            "data/faces95/howar.15.jpg   data/faces95/sherbe.15.jpg\n",
            "data/faces95/howar.16.jpg   data/faces95/sherbe.16.jpg\n",
            "data/faces95/howar.17.jpg   data/faces95/sherbe.17.jpg\n",
            "data/faces95/howar.18.jpg   data/faces95/sherbe.18.jpg\n",
            "data/faces95/howar.19.jpg   data/faces95/sherbe.19.jpg\n",
            "data/faces95/howar.1.jpg    data/faces95/sherbe.1.jpg\n",
            "data/faces95/howar.20.jpg   data/faces95/sherbe.20.jpg\n",
            "data/faces95/howar.2.jpg    data/faces95/sherbe.2.jpg\n",
            "data/faces95/howar.3.jpg    data/faces95/sherbe.3.jpg\n",
            "data/faces95/howar.4.jpg    data/faces95/sherbe.4.jpg\n",
            "data/faces95/howar.5.jpg    data/faces95/sherbe.5.jpg\n",
            "data/faces95/howar.6.jpg    data/faces95/sherbe.6.jpg\n",
            "data/faces95/howar.7.jpg    data/faces95/sherbe.7.jpg\n",
            "data/faces95/howar.8.jpg    data/faces95/sherbe.8.jpg\n",
            "data/faces95/howar.9.jpg    data/faces95/sherbe.9.jpg\n",
            "data/faces95/hsgrim.10.jpg  data/faces95/simm.10.jpg\n",
            "data/faces95/hsgrim.11.jpg  data/faces95/simm.11.jpg\n",
            "data/faces95/hsgrim.12.jpg  data/faces95/simm.12.jpg\n",
            "data/faces95/hsgrim.13.jpg  data/faces95/simm.13.jpg\n",
            "data/faces95/hsgrim.14.jpg  data/faces95/simm.14.jpg\n",
            "data/faces95/hsgrim.15.jpg  data/faces95/simm.15.jpg\n",
            "data/faces95/hsgrim.16.jpg  data/faces95/simm.16.jpg\n",
            "data/faces95/hsgrim.17.jpg  data/faces95/simm.17.jpg\n",
            "data/faces95/hsgrim.18.jpg  data/faces95/simm.18.jpg\n",
            "data/faces95/hsgrim.19.jpg  data/faces95/simm.19.jpg\n",
            "data/faces95/hsgrim.1.jpg   data/faces95/simm.1.jpg\n",
            "data/faces95/hsgrim.20.jpg  data/faces95/simm.20.jpg\n",
            "data/faces95/hsgrim.2.jpg   data/faces95/simm.2.jpg\n",
            "data/faces95/hsgrim.3.jpg   data/faces95/simm.3.jpg\n",
            "data/faces95/hsgrim.4.jpg   data/faces95/simm.4.jpg\n",
            "data/faces95/hsgrim.5.jpg   data/faces95/simm.5.jpg\n",
            "data/faces95/hsgrim.6.jpg   data/faces95/simm.6.jpg\n",
            "data/faces95/hsgrim.7.jpg   data/faces95/simm.7.jpg\n",
            "data/faces95/hsgrim.8.jpg   data/faces95/simm.8.jpg\n",
            "data/faces95/hsgrim.9.jpg   data/faces95/simm.9.jpg\n",
            "data/faces95/ijfran.10.jpg  data/faces95/sirmcb.10.jpg\n",
            "data/faces95/ijfran.11.jpg  data/faces95/sirmcb.11.jpg\n",
            "data/faces95/ijfran.12.jpg  data/faces95/sirmcb.12.jpg\n",
            "data/faces95/ijfran.13.jpg  data/faces95/sirmcb.13.jpg\n",
            "data/faces95/ijfran.14.jpg  data/faces95/sirmcb.14.jpg\n",
            "data/faces95/ijfran.15.jpg  data/faces95/sirmcb.15.jpg\n",
            "data/faces95/ijfran.16.jpg  data/faces95/sirmcb.16.jpg\n",
            "data/faces95/ijfran.17.jpg  data/faces95/sirmcb.17.jpg\n",
            "data/faces95/ijfran.18.jpg  data/faces95/sirmcb.18.jpg\n",
            "data/faces95/ijfran.19.jpg  data/faces95/sirmcb.19.jpg\n",
            "data/faces95/ijfran.1.jpg   data/faces95/sirmcb.1.jpg\n",
            "data/faces95/ijfran.20.jpg  data/faces95/sirmcb.20.jpg\n",
            "data/faces95/ijfran.2.jpg   data/faces95/sirmcb.2.jpg\n",
            "data/faces95/ijfran.3.jpg   data/faces95/sirmcb.3.jpg\n",
            "data/faces95/ijfran.4.jpg   data/faces95/sirmcb.4.jpg\n",
            "data/faces95/ijfran.5.jpg   data/faces95/sirmcb.5.jpg\n",
            "data/faces95/ijfran.6.jpg   data/faces95/sirmcb.6.jpg\n",
            "data/faces95/ijfran.7.jpg   data/faces95/sirmcb.7.jpg\n",
            "data/faces95/ijfran.8.jpg   data/faces95/sirmcb.8.jpg\n",
            "data/faces95/ijfran.9.jpg   data/faces95/sirmcb.9.jpg\n",
            "data/faces95/isbald.10.jpg  data/faces95/sjcutt.10.jpg\n",
            "data/faces95/isbald.11.jpg  data/faces95/sjcutt.11.jpg\n",
            "data/faces95/isbald.12.jpg  data/faces95/sjcutt.12.jpg\n",
            "data/faces95/isbald.13.jpg  data/faces95/sjcutt.13.jpg\n",
            "data/faces95/isbald.14.jpg  data/faces95/sjcutt.14.jpg\n",
            "data/faces95/isbald.15.jpg  data/faces95/sjcutt.15.jpg\n",
            "data/faces95/isbald.16.jpg  data/faces95/sjcutt.16.jpg\n",
            "data/faces95/isbald.17.jpg  data/faces95/sjcutt.17.jpg\n",
            "data/faces95/isbald.18.jpg  data/faces95/sjcutt.18.jpg\n",
            "data/faces95/isbald.19.jpg  data/faces95/sjcutt.19.jpg\n",
            "data/faces95/isbald.1.jpg   data/faces95/sjcutt.1.jpg\n",
            "data/faces95/isbald.20.jpg  data/faces95/sjcutt.20.jpg\n",
            "data/faces95/isbald.2.jpg   data/faces95/sjcutt.2.jpg\n",
            "data/faces95/isbald.3.jpg   data/faces95/sjcutt.3.jpg\n",
            "data/faces95/isbald.4.jpg   data/faces95/sjcutt.4.jpg\n",
            "data/faces95/isbald.5.jpg   data/faces95/sjcutt.5.jpg\n",
            "data/faces95/isbald.6.jpg   data/faces95/sjcutt.6.jpg\n",
            "data/faces95/isbald.7.jpg   data/faces95/sjcutt.7.jpg\n",
            "data/faces95/isbald.8.jpg   data/faces95/sjcutt.8.jpg\n",
            "data/faces95/isbald.9.jpg   data/faces95/sjcutt.9.jpg\n",
            "data/faces95/jbierl.10.jpg  data/faces95/sjkill.10.jpg\n",
            "data/faces95/jbierl.11.jpg  data/faces95/sjkill.11.jpg\n",
            "data/faces95/jbierl.12.jpg  data/faces95/sjkill.12.jpg\n",
            "data/faces95/jbierl.13.jpg  data/faces95/sjkill.13.jpg\n",
            "data/faces95/jbierl.14.jpg  data/faces95/sjkill.14.jpg\n",
            "data/faces95/jbierl.15.jpg  data/faces95/sjkill.15.jpg\n",
            "data/faces95/jbierl.16.jpg  data/faces95/sjkill.16.jpg\n",
            "data/faces95/jbierl.17.jpg  data/faces95/sjkill.17.jpg\n",
            "data/faces95/jbierl.18.jpg  data/faces95/sjkill.18.jpg\n",
            "data/faces95/jbierl.19.jpg  data/faces95/sjkill.19.jpg\n",
            "data/faces95/jbierl.1.jpg   data/faces95/sjkill.1.jpg\n",
            "data/faces95/jbierl.20.jpg  data/faces95/sjkill.20.jpg\n",
            "data/faces95/jbierl.2.jpg   data/faces95/sjkill.2.jpg\n",
            "data/faces95/jbierl.3.jpg   data/faces95/sjkill.3.jpg\n",
            "data/faces95/jbierl.4.jpg   data/faces95/sjkill.4.jpg\n",
            "data/faces95/jbierl.5.jpg   data/faces95/sjkill.5.jpg\n",
            "data/faces95/jbierl.6.jpg   data/faces95/sjkill.6.jpg\n",
            "data/faces95/jbierl.7.jpg   data/faces95/sjkill.7.jpg\n",
            "data/faces95/jbierl.8.jpg   data/faces95/sjkill.8.jpg\n",
            "data/faces95/jbierl.9.jpg   data/faces95/sjkill.9.jpg\n",
            "data/faces95/jross.10.jpg   data/faces95/sjpalm.10.jpg\n",
            "data/faces95/jross.11.jpg   data/faces95/sjpalm.11.jpg\n",
            "data/faces95/jross.12.jpg   data/faces95/sjpalm.12.jpg\n",
            "data/faces95/jross.13.jpg   data/faces95/sjpalm.13.jpg\n",
            "data/faces95/jross.14.jpg   data/faces95/sjpalm.14.jpg\n",
            "data/faces95/jross.15.jpg   data/faces95/sjpalm.15.jpg\n",
            "data/faces95/jross.16.jpg   data/faces95/sjpalm.16.jpg\n",
            "data/faces95/jross.17.jpg   data/faces95/sjpalm.17.jpg\n",
            "data/faces95/jross.18.jpg   data/faces95/sjpalm.18.jpg\n",
            "data/faces95/jross.19.jpg   data/faces95/sjpalm.19.jpg\n",
            "data/faces95/jross.1.jpg    data/faces95/sjpalm.1.jpg\n",
            "data/faces95/jross.20.jpg   data/faces95/sjpalm.20.jpg\n",
            "data/faces95/jross.2.jpg    data/faces95/sjpalm.2.jpg\n",
            "data/faces95/jross.3.jpg    data/faces95/sjpalm.3.jpg\n",
            "data/faces95/jross.4.jpg    data/faces95/sjpalm.4.jpg\n",
            "data/faces95/jross.5.jpg    data/faces95/sjpalm.5.jpg\n",
            "data/faces95/jross.6.jpg    data/faces95/sjpalm.6.jpg\n",
            "data/faces95/jross.7.jpg    data/faces95/sjpalm.7.jpg\n",
            "data/faces95/jross.8.jpg    data/faces95/sjpalm.8.jpg\n",
            "data/faces95/jross.9.jpg    data/faces95/sjpalm.9.jpg\n",
            "data/faces95/jserai.10.jpg  data/faces95/smille.10.jpg\n",
            "data/faces95/jserai.11.jpg  data/faces95/smille.11.jpg\n",
            "data/faces95/jserai.12.jpg  data/faces95/smille.12.jpg\n",
            "data/faces95/jserai.13.jpg  data/faces95/smille.13.jpg\n",
            "data/faces95/jserai.14.jpg  data/faces95/smille.14.jpg\n",
            "data/faces95/jserai.15.jpg  data/faces95/smille.15.jpg\n",
            "data/faces95/jserai.16.jpg  data/faces95/smille.16.jpg\n",
            "data/faces95/jserai.17.jpg  data/faces95/smille.17.jpg\n",
            "data/faces95/jserai.18.jpg  data/faces95/smille.18.jpg\n",
            "data/faces95/jserai.19.jpg  data/faces95/smille.19.jpg\n",
            "data/faces95/jserai.1.jpg   data/faces95/smille.1.jpg\n",
            "data/faces95/jserai.20.jpg  data/faces95/smille.20.jpg\n",
            "data/faces95/jserai.2.jpg   data/faces95/smille.2.jpg\n",
            "data/faces95/jserai.3.jpg   data/faces95/smille.3.jpg\n",
            "data/faces95/jserai.4.jpg   data/faces95/smille.4.jpg\n",
            "data/faces95/jserai.5.jpg   data/faces95/smille.5.jpg\n",
            "data/faces95/jserai.6.jpg   data/faces95/smille.6.jpg\n",
            "data/faces95/jserai.7.jpg   data/faces95/smille.7.jpg\n",
            "data/faces95/jserai.8.jpg   data/faces95/smille.8.jpg\n",
            "data/faces95/jserai.9.jpg   data/faces95/smille.9.jpg\n",
            "data/faces95/jshea.10.jpg   data/faces95/theoc.10.jpg\n",
            "data/faces95/jshea.11.jpg   data/faces95/theoc.11.jpg\n",
            "data/faces95/jshea.12.jpg   data/faces95/theoc.12.jpg\n",
            "data/faces95/jshea.13.jpg   data/faces95/theoc.13.jpg\n",
            "data/faces95/jshea.14.jpg   data/faces95/theoc.14.jpg\n",
            "data/faces95/jshea.15.jpg   data/faces95/theoc.15.jpg\n",
            "data/faces95/jshea.16.jpg   data/faces95/theoc.16.jpg\n",
            "data/faces95/jshea.17.jpg   data/faces95/theoc.17.jpg\n",
            "data/faces95/jshea.18.jpg   data/faces95/theoc.18.jpg\n",
            "data/faces95/jshea.19.jpg   data/faces95/theoc.19.jpg\n",
            "data/faces95/jshea.1.jpg    data/faces95/theoc.1.jpg\n",
            "data/faces95/jshea.20.jpg   data/faces95/theoc.20.jpg\n",
            "data/faces95/jshea.2.jpg    data/faces95/theoc.2.jpg\n",
            "data/faces95/jshea.3.jpg    data/faces95/theoc.3.jpg\n",
            "data/faces95/jshea.4.jpg    data/faces95/theoc.4.jpg\n",
            "data/faces95/jshea.5.jpg    data/faces95/theoc.5.jpg\n",
            "data/faces95/jshea.6.jpg    data/faces95/theoc.6.jpg\n",
            "data/faces95/jshea.7.jpg    data/faces95/theoc.7.jpg\n",
            "data/faces95/jshea.8.jpg    data/faces95/theoc.8.jpg\n",
            "data/faces95/jshea.9.jpg    data/faces95/theoc.9.jpg\n",
            "data/faces95/kbartl.10.jpg  data/faces95/theod.10.jpg\n",
            "data/faces95/kbartl.11.jpg  data/faces95/theod.11.jpg\n",
            "data/faces95/kbartl.12.jpg  data/faces95/theod.12.jpg\n",
            "data/faces95/kbartl.13.jpg  data/faces95/theod.13.jpg\n",
            "data/faces95/kbartl.14.jpg  data/faces95/theod.14.jpg\n",
            "data/faces95/kbartl.15.jpg  data/faces95/theod.15.jpg\n",
            "data/faces95/kbartl.16.jpg  data/faces95/theod.16.jpg\n",
            "data/faces95/kbartl.17.jpg  data/faces95/theod.17.jpg\n",
            "data/faces95/kbartl.18.jpg  data/faces95/theod.18.jpg\n",
            "data/faces95/kbartl.19.jpg  data/faces95/theod.19.jpg\n",
            "data/faces95/kbartl.1.jpg   data/faces95/theod.1.jpg\n",
            "data/faces95/kbartl.20.jpg  data/faces95/theod.20.jpg\n",
            "data/faces95/kbartl.2.jpg   data/faces95/theod.2.jpg\n",
            "data/faces95/kbartl.3.jpg   data/faces95/theod.3.jpg\n",
            "data/faces95/kbartl.4.jpg   data/faces95/theod.4.jpg\n",
            "data/faces95/kbartl.5.jpg   data/faces95/theod.5.jpg\n",
            "data/faces95/kbartl.6.jpg   data/faces95/theod.6.jpg\n",
            "data/faces95/kbartl.7.jpg   data/faces95/theod.7.jpg\n",
            "data/faces95/kbartl.8.jpg   data/faces95/theod.8.jpg\n",
            "data/faces95/kbartl.9.jpg   data/faces95/theod.9.jpg\n",
            "data/faces95/kmbald.10.jpg  data/faces95/thgear.10.jpg\n",
            "data/faces95/kmbald.11.jpg  data/faces95/thgear.11.jpg\n",
            "data/faces95/kmbald.12.jpg  data/faces95/thgear.12.jpg\n",
            "data/faces95/kmbald.13.jpg  data/faces95/thgear.13.jpg\n",
            "data/faces95/kmbald.14.jpg  data/faces95/thgear.14.jpg\n",
            "data/faces95/kmbald.15.jpg  data/faces95/thgear.15.jpg\n",
            "data/faces95/kmbald.16.jpg  data/faces95/thgear.16.jpg\n",
            "data/faces95/kmbald.17.jpg  data/faces95/thgear.17.jpg\n",
            "data/faces95/kmbald.18.jpg  data/faces95/thgear.18.jpg\n",
            "data/faces95/kmbald.19.jpg  data/faces95/thgear.19.jpg\n",
            "data/faces95/kmbald.1.jpg   data/faces95/thgear.1.jpg\n",
            "data/faces95/kmbald.20.jpg  data/faces95/thgear.20.jpg\n",
            "data/faces95/kmbald.2.jpg   data/faces95/thgear.2.jpg\n",
            "data/faces95/kmbald.3.jpg   data/faces95/thgear.3.jpg\n",
            "data/faces95/kmbald.4.jpg   data/faces95/thgear.4.jpg\n",
            "data/faces95/kmbald.5.jpg   data/faces95/thgear.5.jpg\n",
            "data/faces95/kmbald.6.jpg   data/faces95/thgear.6.jpg\n",
            "data/faces95/kmbald.7.jpg   data/faces95/thgear.7.jpg\n",
            "data/faces95/kmbald.8.jpg   data/faces95/thgear.8.jpg\n",
            "data/faces95/kmbald.9.jpg   data/faces95/thgear.9.jpg\n",
            "data/faces95/kouri.10.jpg   data/faces95/tjdyke.10.jpg\n",
            "data/faces95/kouri.11.jpg   data/faces95/tjdyke.11.jpg\n",
            "data/faces95/kouri.12.jpg   data/faces95/tjdyke.12.jpg\n",
            "data/faces95/kouri.13.jpg   data/faces95/tjdyke.13.jpg\n",
            "data/faces95/kouri.14.jpg   data/faces95/tjdyke.14.jpg\n",
            "data/faces95/kouri.15.jpg   data/faces95/tjdyke.15.jpg\n",
            "data/faces95/kouri.16.jpg   data/faces95/tjdyke.16.jpg\n",
            "data/faces95/kouri.17.jpg   data/faces95/tjdyke.17.jpg\n",
            "data/faces95/kouri.18.jpg   data/faces95/tjdyke.18.jpg\n",
            "data/faces95/kouri.19.jpg   data/faces95/tjdyke.19.jpg\n",
            "data/faces95/kouri.1.jpg    data/faces95/tjdyke.1.jpg\n",
            "data/faces95/kouri.20.jpg   data/faces95/tjdyke.20.jpg\n",
            "data/faces95/kouri.2.jpg    data/faces95/tjdyke.2.jpg\n",
            "data/faces95/kouri.3.jpg    data/faces95/tjdyke.3.jpg\n",
            "data/faces95/kouri.4.jpg    data/faces95/tjdyke.4.jpg\n",
            "data/faces95/kouri.5.jpg    data/faces95/tjdyke.5.jpg\n",
            "data/faces95/kouri.6.jpg    data/faces95/tjdyke.6.jpg\n",
            "data/faces95/kouri.7.jpg    data/faces95/tjdyke.7.jpg\n",
            "data/faces95/kouri.8.jpg    data/faces95/tjdyke.8.jpg\n",
            "data/faces95/kouri.9.jpg    data/faces95/tjdyke.9.jpg\n",
            "data/faces95/labenm.10.jpg  data/faces95/vanta.10.jpg\n",
            "data/faces95/labenm.11.jpg  data/faces95/vanta.11.jpg\n",
            "data/faces95/labenm.12.jpg  data/faces95/vanta.12.jpg\n",
            "data/faces95/labenm.13.jpg  data/faces95/vanta.13.jpg\n",
            "data/faces95/labenm.14.jpg  data/faces95/vanta.14.jpg\n",
            "data/faces95/labenm.15.jpg  data/faces95/vanta.15.jpg\n",
            "data/faces95/labenm.16.jpg  data/faces95/vanta.16.jpg\n",
            "data/faces95/labenm.17.jpg  data/faces95/vanta.17.jpg\n",
            "data/faces95/labenm.18.jpg  data/faces95/vanta.18.jpg\n",
            "data/faces95/labenm.19.jpg  data/faces95/vanta.19.jpg\n",
            "data/faces95/labenm.1.jpg   data/faces95/vanta.1.jpg\n",
            "data/faces95/labenm.20.jpg  data/faces95/vanta.20.jpg\n",
            "data/faces95/labenm.2.jpg   data/faces95/vanta.2.jpg\n",
            "data/faces95/labenm.3.jpg   data/faces95/vanta.3.jpg\n",
            "data/faces95/labenm.4.jpg   data/faces95/vanta.4.jpg\n",
            "data/faces95/labenm.5.jpg   data/faces95/vanta.5.jpg\n",
            "data/faces95/labenm.6.jpg   data/faces95/vanta.6.jpg\n",
            "data/faces95/labenm.7.jpg   data/faces95/vanta.7.jpg\n",
            "data/faces95/labenm.8.jpg   data/faces95/vanta.8.jpg\n",
            "data/faces95/labenm.9.jpg   data/faces95/vanta.9.jpg\n",
            "data/faces95/ldgodd.10.jpg  data/faces95/virvi.10.jpg\n",
            "data/faces95/ldgodd.11.jpg  data/faces95/virvi.11.jpg\n",
            "data/faces95/ldgodd.12.jpg  data/faces95/virvi.12.jpg\n",
            "data/faces95/ldgodd.13.jpg  data/faces95/virvi.13.jpg\n",
            "data/faces95/ldgodd.14.jpg  data/faces95/virvi.14.jpg\n",
            "data/faces95/ldgodd.15.jpg  data/faces95/virvi.15.jpg\n",
            "data/faces95/ldgodd.16.jpg  data/faces95/virvi.16.jpg\n",
            "data/faces95/ldgodd.17.jpg  data/faces95/virvi.17.jpg\n",
            "data/faces95/ldgodd.18.jpg  data/faces95/virvi.18.jpg\n",
            "data/faces95/ldgodd.19.jpg  data/faces95/virvi.19.jpg\n",
            "data/faces95/ldgodd.1.jpg   data/faces95/virvi.1.jpg\n",
            "data/faces95/ldgodd.20.jpg  data/faces95/virvi.20.jpg\n",
            "data/faces95/ldgodd.2.jpg   data/faces95/virvi.2.jpg\n",
            "data/faces95/ldgodd.3.jpg   data/faces95/virvi.3.jpg\n",
            "data/faces95/ldgodd.4.jpg   data/faces95/virvi.4.jpg\n",
            "data/faces95/ldgodd.5.jpg   data/faces95/virvi.5.jpg\n",
            "data/faces95/ldgodd.6.jpg   data/faces95/virvi.6.jpg\n",
            "data/faces95/ldgodd.7.jpg   data/faces95/virvi.7.jpg\n",
            "data/faces95/ldgodd.8.jpg   data/faces95/virvi.8.jpg\n",
            "data/faces95/ldgodd.9.jpg   data/faces95/virvi.9.jpg\n",
            "data/faces95/lidov.10.jpg   data/faces95/wjhugh.10.jpg\n",
            "data/faces95/lidov.11.jpg   data/faces95/wjhugh.11.jpg\n",
            "data/faces95/lidov.12.jpg   data/faces95/wjhugh.12.jpg\n",
            "data/faces95/lidov.13.jpg   data/faces95/wjhugh.13.jpg\n",
            "data/faces95/lidov.14.jpg   data/faces95/wjhugh.14.jpg\n",
            "data/faces95/lidov.15.jpg   data/faces95/wjhugh.15.jpg\n",
            "data/faces95/lidov.16.jpg   data/faces95/wjhugh.16.jpg\n",
            "data/faces95/lidov.17.jpg   data/faces95/wjhugh.17.jpg\n",
            "data/faces95/lidov.18.jpg   data/faces95/wjhugh.18.jpg\n",
            "data/faces95/lidov.19.jpg   data/faces95/wjhugh.19.jpg\n",
            "data/faces95/lidov.1.jpg    data/faces95/wjhugh.1.jpg\n",
            "data/faces95/lidov.20.jpg   data/faces95/wjhugh.20.jpg\n",
            "data/faces95/lidov.2.jpg    data/faces95/wjhugh.2.jpg\n",
            "data/faces95/lidov.3.jpg    data/faces95/wjhugh.3.jpg\n",
            "data/faces95/lidov.4.jpg    data/faces95/wjhugh.4.jpg\n",
            "data/faces95/lidov.5.jpg    data/faces95/wjhugh.5.jpg\n",
            "data/faces95/lidov.6.jpg    data/faces95/wjhugh.6.jpg\n",
            "data/faces95/lidov.7.jpg    data/faces95/wjhugh.7.jpg\n",
            "data/faces95/lidov.8.jpg    data/faces95/wjhugh.8.jpg\n",
            "data/faces95/lidov.9.jpg    data/faces95/wjhugh.9.jpg\n"
          ]
        }
      ]
    },
    {
      "cell_type": "code",
      "metadata": {
        "id": "H86CuGTpGVap"
      },
      "source": [
        "flist = glob.glob(\"data/faces95/*jpg\")"
      ],
      "execution_count": null,
      "outputs": []
    },
    {
      "cell_type": "code",
      "metadata": {
        "id": "XFZGDvy7GVXu",
        "colab": {
          "base_uri": "https://localhost:8080/"
        },
        "outputId": "22ff56e2-c99e-4434-867c-fdc9687c6683"
      },
      "source": [
        "N = len(flist)\n",
        "N"
      ],
      "execution_count": null,
      "outputs": [
        {
          "output_type": "execute_result",
          "data": {
            "text/plain": [
              "1440"
            ]
          },
          "metadata": {},
          "execution_count": 11
        }
      ]
    },
    {
      "cell_type": "markdown",
      "metadata": {
        "id": "wBPDLDqiGVWR"
      },
      "source": [
        "\n",
        "## read in data\n",
        "\n",
        "if you save the data in a npy array you can read it in more quickly. After the first time you run this you can comment out the next 2 cells of code and skip to the np.load command"
      ]
    },
    {
      "cell_type": "code",
      "metadata": {
        "id": "WEnoBy00GVM4",
        "colab": {
          "base_uri": "https://localhost:8080/",
          "height": 286
        },
        "outputId": "6bf8a7e3-0554-41a5-d157-ba2a734d9f7e"
      },
      "source": [
        "im = Image.open(flist[40])\n",
        "np_im = numpy.array(im)[:,:,:3].astype(float) / 255 #normalize the images so that they are 0-1\n",
        "pl.imshow(np_im)\n",
        "# I am going to need only a subset of the image: the center part where the head is\n",
        "\n",
        "np_im[25:165:2,25:165:2,:1].shape, np.prod(np_im.shape[1:])"
      ],
      "execution_count": null,
      "outputs": [
        {
          "output_type": "execute_result",
          "data": {
            "text/plain": [
              "((70, 70, 1), 540)"
            ]
          },
          "metadata": {},
          "execution_count": 12
        },
        {
          "output_type": "display_data",
          "data": {
            "image/png": "[encoded data removed]",
            "text/plain": [
              "<Figure size 432x288 with 1 Axes>"
            ]
          },
          "metadata": {
            "needs_background": "light"
          }
        }
      ]
    },
    {
      "cell_type": "code",
      "metadata": {
        "colab": {
          "base_uri": "https://localhost:8080/",
          "height": 285
        },
        "id": "Mj5Li9GKyWjo",
        "outputId": "817f6ec0-1bf0-44f4-c379-284c27ecb1b0"
      },
      "source": [
        "pl.imshow(np_im[25:165:2,25:165:2])"
      ],
      "execution_count": null,
      "outputs": [
        {
          "output_type": "execute_result",
          "data": {
            "text/plain": [
              "<matplotlib.image.AxesImage at 0x7f0c2bcd1dd0>"
            ]
          },
          "metadata": {},
          "execution_count": 13
        },
        {
          "output_type": "display_data",
          "data": {
            "image/png": "[encoded data removed]",
            "text/plain": [
              "<Figure size 432x288 with 1 Axes>"
            ]
          },
          "metadata": {
            "needs_background": "light"
          }
        }
      ]
    },
    {
      "cell_type": "markdown",
      "metadata": {
        "id": "MTZ9lDciagCd"
      },
      "source": [
        "<font color='red'> 461 students - you can skip this and go  straight to loading the images</font>"
      ]
    },
    {
      "cell_type": "code",
      "metadata": {
        "id": "sRO9HLyPKxQo",
        "colab": {
          "base_uri": "https://localhost:8080/",
          "height": 844
        },
        "outputId": "59a1a8a1-2996-4c90-e250-06afb7e8cbcc"
      },
      "source": [
        "#skip and read the saved version if you have saved it (after the first time you run this cell)\n",
        "# I also use a single color channel (black and white)\n",
        "imgs = np.zeros((N, 70, 70, 1))\n",
        "for i,f in enumerate(flist):\n",
        "  if not i%50: print(i)\n",
        "  im = Image.open(flist[i])\n",
        "  np_im = numpy.array(im)[:,:,:3].astype(float) / 255 \n",
        "  # here I collect the certain portion of each image \n",
        "  # from pixel 25 to 165 on the x and y axis (25:165)\n",
        "  # and subsampling by a factor 2 (25:165:2)\n",
        "  # and I am only choosing 1 color layer: [...,:1]: the R in RGB layers\n",
        "  imgs[i] = numpy.array(im)[25:165:2,25:165:2,:1].astype(float) / 255 \n",
        "#uncomment this to save another array of images - I saved the original one as data/faces.npy\n",
        "#np.save(\"data/faces_saved.npy\", imgs)"
      ],
      "execution_count": null,
      "outputs": [
        {
          "output_type": "stream",
          "name": "stdout",
          "text": [
            "0\n",
            "50\n",
            "100\n",
            "150\n",
            "200\n",
            "250\n",
            "300\n",
            "350\n",
            "400\n",
            "450\n",
            "500\n",
            "550\n",
            "600\n",
            "650\n",
            "700\n",
            "750\n",
            "800\n",
            "850\n",
            "900\n",
            "950\n",
            "1000\n",
            "1050\n",
            "1100\n",
            "1150\n",
            "1200\n",
            "1250\n",
            "1300\n",
            "1350\n",
            "1400\n"
          ]
        },
        {
          "output_type": "error",
          "ename": "OSError",
          "evalue": "ignored",
          "traceback": [
            "\u001b[0;31m---------------------------------------------------------------------------\u001b[0m",
            "\u001b[0;31mOSError\u001b[0m                                   Traceback (most recent call last)",
            "\u001b[0;32m<ipython-input-18-7cb0d1672753>\u001b[0m in \u001b[0;36m<module>\u001b[0;34m()\u001b[0m\n\u001b[1;32m     12\u001b[0m   \u001b[0mimgs\u001b[0m\u001b[0;34m[\u001b[0m\u001b[0mi\u001b[0m\u001b[0;34m]\u001b[0m \u001b[0;34m=\u001b[0m \u001b[0mnumpy\u001b[0m\u001b[0;34m.\u001b[0m\u001b[0marray\u001b[0m\u001b[0;34m(\u001b[0m\u001b[0mim\u001b[0m\u001b[0;34m)\u001b[0m\u001b[0;34m[\u001b[0m\u001b[0;36m25\u001b[0m\u001b[0;34m:\u001b[0m\u001b[0;36m165\u001b[0m\u001b[0;34m:\u001b[0m\u001b[0;36m2\u001b[0m\u001b[0;34m,\u001b[0m\u001b[0;36m25\u001b[0m\u001b[0;34m:\u001b[0m\u001b[0;36m165\u001b[0m\u001b[0;34m:\u001b[0m\u001b[0;36m2\u001b[0m\u001b[0;34m,\u001b[0m\u001b[0;34m:\u001b[0m\u001b[0;36m1\u001b[0m\u001b[0;34m]\u001b[0m\u001b[0;34m.\u001b[0m\u001b[0mastype\u001b[0m\u001b[0;34m(\u001b[0m\u001b[0mfloat\u001b[0m\u001b[0;34m)\u001b[0m \u001b[0;34m/\u001b[0m \u001b[0;36m255\u001b[0m\u001b[0;34m\u001b[0m\u001b[0;34m\u001b[0m\u001b[0m\n\u001b[1;32m     13\u001b[0m \u001b[0;31m#uncomment this to save another array of images - I saved the original one as data/faces.npy\u001b[0m\u001b[0;34m\u001b[0m\u001b[0;34m\u001b[0m\u001b[0;34m\u001b[0m\u001b[0m\n\u001b[0;32m---> 14\u001b[0;31m \u001b[0mnp\u001b[0m\u001b[0;34m.\u001b[0m\u001b[0msave\u001b[0m\u001b[0;34m(\u001b[0m\u001b[0;34m\"data/faces_saved.npy\"\u001b[0m\u001b[0;34m,\u001b[0m \u001b[0mimgs\u001b[0m\u001b[0;34m)\u001b[0m\u001b[0;34m\u001b[0m\u001b[0;34m\u001b[0m\u001b[0m\n\u001b[0m",
            "\u001b[0;32m<__array_function__ internals>\u001b[0m in \u001b[0;36msave\u001b[0;34m(*args, **kwargs)\u001b[0m\n",
            "\u001b[0;32m/usr/local/lib/python3.7/dist-packages/numpy/lib/npyio.py\u001b[0m in \u001b[0;36msave\u001b[0;34m(file, arr, allow_pickle, fix_imports)\u001b[0m\n\u001b[1;32m    522\u001b[0m         \u001b[0;32mif\u001b[0m \u001b[0;32mnot\u001b[0m \u001b[0mfile\u001b[0m\u001b[0;34m.\u001b[0m\u001b[0mendswith\u001b[0m\u001b[0;34m(\u001b[0m\u001b[0;34m'.npy'\u001b[0m\u001b[0;34m)\u001b[0m\u001b[0;34m:\u001b[0m\u001b[0;34m\u001b[0m\u001b[0;34m\u001b[0m\u001b[0m\n\u001b[1;32m    523\u001b[0m             \u001b[0mfile\u001b[0m \u001b[0;34m=\u001b[0m \u001b[0mfile\u001b[0m \u001b[0;34m+\u001b[0m \u001b[0;34m'.npy'\u001b[0m\u001b[0;34m\u001b[0m\u001b[0;34m\u001b[0m\u001b[0m\n\u001b[0;32m--> 524\u001b[0;31m         \u001b[0mfile_ctx\u001b[0m \u001b[0;34m=\u001b[0m \u001b[0mopen\u001b[0m\u001b[0;34m(\u001b[0m\u001b[0mfile\u001b[0m\u001b[0;34m,\u001b[0m \u001b[0;34m\"wb\"\u001b[0m\u001b[0;34m)\u001b[0m\u001b[0;34m\u001b[0m\u001b[0;34m\u001b[0m\u001b[0m\n\u001b[0m\u001b[1;32m    525\u001b[0m \u001b[0;34m\u001b[0m\u001b[0m\n\u001b[1;32m    526\u001b[0m     \u001b[0;32mwith\u001b[0m \u001b[0mfile_ctx\u001b[0m \u001b[0;32mas\u001b[0m \u001b[0mfid\u001b[0m\u001b[0;34m:\u001b[0m\u001b[0;34m\u001b[0m\u001b[0;34m\u001b[0m\u001b[0m\n",
            "\u001b[0;31mOSError\u001b[0m: [Errno 30] Read-only file system: 'data/faces_saved.npy'"
          ]
        }
      ]
    },
    {
      "cell_type": "markdown",
      "metadata": {
        "id": "-i82eIydsU-T"
      },
      "source": [
        "# 461 studentd - 1B you can read the images below if you have saved them earlier"
      ]
    },
    {
      "cell_type": "code",
      "metadata": {
        "id": "gtdcbAa17cz9",
        "colab": {
          "base_uri": "https://localhost:8080/"
        },
        "outputId": "1a7259de-c308-413b-ce35-f07670c6008a"
      },
      "source": [
        "imgs = np.load(\"data/faces.npy\")\n",
        "imgs.shape"
      ],
      "execution_count": null,
      "outputs": [
        {
          "output_type": "execute_result",
          "data": {
            "text/plain": [
              "(1440, 70, 70, 1)"
            ]
          },
          "metadata": {},
          "execution_count": 15
        }
      ]
    },
    {
      "cell_type": "markdown",
      "metadata": {
        "id": "1_xTnzagSnUQ"
      },
      "source": [
        "## 2 lower the resolution#\n",
        "keep printing the shape of the images as you go along:\n",
        "\n",
        "make a copy of the original before you lower the res \n",
        "\n",
        "- sample the image every other pixel to get a 35x35 image and only (the shape of the image set should be 1440,35,35,1\n",
        "- create a 75/25 train/test set with the command \n",
        "          train_test_split(input, target, test_size = .25, random_state=1) \n",
        "          What are the input and output data??\n",
        "- the data will be fed as a single row of pixels, so for example each imput image should be reshaped so that  the image array so that eachimage is 35*35 long: reshape the 4 arrays: input training, output training, input test and output test so that they are they are the appropriate shape (each should be Nimages x Npixel)\n"
      ]
    },
    {
      "cell_type": "code",
      "metadata": {
        "id": "G1T-YpWvJPLF"
      },
      "source": [
        "#imgs orig is the full resolution image\n",
        "imgs_orig = imgs.copy()"
      ],
      "execution_count": null,
      "outputs": []
    },
    {
      "cell_type": "code",
      "metadata": {
        "id": "LcqaIVO_JVQU",
        "colab": {
          "base_uri": "https://localhost:8080/"
        },
        "outputId": "991daf1d-b701-4e5d-9b85-f64c38eb22e2"
      },
      "source": [
        "# lower the resolution\n",
        "# example: take one every N pixels\n",
        "step=2\n",
        "'''Not sure what stepsize should be'''\n",
        "imgs_lr = imgs[:,::step,::step]\n",
        "# slightly better than the line of code above\n",
        "#imgs_lr = imgs.reshape(...).mean(...).mean(...)\n",
        "imgs_lr.shape"
      ],
      "execution_count": null,
      "outputs": [
        {
          "output_type": "execute_result",
          "data": {
            "text/plain": [
              "(1440, 35, 35, 1)"
            ]
          },
          "metadata": {},
          "execution_count": 26
        }
      ]
    },
    {
      "cell_type": "code",
      "metadata": {
        "id": "25GNF4TmKw-5",
        "colab": {
          "base_uri": "https://localhost:8080/"
        },
        "outputId": "c9816ee1-9d81-4f3e-cd1c-e1c21e924d6c"
      },
      "source": [
        "#this is the number of pixels in the image\n",
        "np.prod(imgs_lr[1].shape), np.prod(imgs[1].shape), "
      ],
      "execution_count": null,
      "outputs": [
        {
          "output_type": "execute_result",
          "data": {
            "text/plain": [
              "(1225, 4900)"
            ]
          },
          "metadata": {},
          "execution_count": 24
        }
      ]
    },
    {
      "cell_type": "markdown",
      "metadata": {
        "id": "YuzhtLfG8RWz"
      },
      "source": [
        "#### generate a train and test set\n",
        "If I want to predict the image at the same resolution I will pass the same input as the target variable. Otherwise the target variable will be a full resolution image set and the low input the lower resolution one"
      ]
    },
    {
      "cell_type": "code",
      "metadata": {
        "id": "cD5Tq_CTGVDc"
      },
      "source": [
        "X_tr,  X_te, y_tr, y_te = train_test_split(imgs_lr, imgs_lr, test_size = .25, random_state=2)"
      ],
      "execution_count": null,
      "outputs": []
    },
    {
      "cell_type": "code",
      "metadata": {
        "id": "GH7G4XoNKw11",
        "colab": {
          "base_uri": "https://localhost:8080/"
        },
        "outputId": "a8b96b07-2733-4180-ac5d-29b404580df3"
      },
      "source": [
        "X_tr.shape, X_te.shape, y_tr.shape, y_te.shape"
      ],
      "execution_count": null,
      "outputs": [
        {
          "output_type": "execute_result",
          "data": {
            "text/plain": [
              "((1080, 35, 35, 1), (360, 35, 35, 1), (1080, 35, 35, 1), (360, 35, 35, 1))"
            ]
          },
          "metadata": {},
          "execution_count": 32
        }
      ]
    },
    {
      "cell_type": "code",
      "metadata": {
        "id": "zO-IKuTtGUIa"
      },
      "source": [
        "#each image needs to be unravel into a flat array\n",
        "X_tr = X_tr.reshape(len(X_tr), np.prod(X_tr.shape[1:]))\n",
        "X_te = X_te.reshape(len(X_te), np.prod(X_te.shape[1:]))\n",
        "y_tr = y_tr.reshape(len(y_tr), np.prod(y_tr.shape[1:]))\n",
        "y_te = y_te.reshape(len(y_te), np.prod(y_te.shape[1:]))"
      ],
      "execution_count": null,
      "outputs": []
    },
    {
      "cell_type": "code",
      "metadata": {
        "colab": {
          "base_uri": "https://localhost:8080/"
        },
        "id": "TFZOTnUejsFU",
        "outputId": "87c9e97c-90ac-48bd-ae1f-a2905c7b90d7"
      },
      "source": [
        "## important: we feed to the NN rows of pixels, not cubes of pixels\n",
        "X_tr.shape, X_te.shape, y_tr.shape, y_te.shape"
      ],
      "execution_count": null,
      "outputs": [
        {
          "output_type": "execute_result",
          "data": {
            "text/plain": [
              "((1080, 1225), (360, 1225), (1080, 1225), (360, 1225))"
            ]
          },
          "metadata": {},
          "execution_count": 34
        }
      ]
    },
    {
      "cell_type": "markdown",
      "metadata": {
        "id": "O2taigiAbUkf"
      },
      "source": [
        "## 3 build an autoencoder model\n",
        "\n",
        "Remember that the autoencoder is an hour clock model: the center is a smallest layer\n",
        "\n",
        "for example your NN layers could be \n",
        "\n",
        "324 (input size) -> 256 -> 128 -> 56 -> 128 -> 256 -> 1225 (output size)"
      ]
    },
    {
      "cell_type": "code",
      "metadata": {
        "id": "H-p2emzXdFgh",
        "colab": {
          "base_uri": "https://localhost:8080/"
        },
        "outputId": "ac3bbd72-be5c-47cf-a5b6-c610f1b14d38"
      },
      "source": [
        "img_row=imgs_lr.shape[1]\n",
        "img_col=imgs_lr.shape[2]\n",
        "ndim=img_row*img_col\n",
        "ndim"
      ],
      "execution_count": null,
      "outputs": [
        {
          "output_type": "execute_result",
          "data": {
            "text/plain": [
              "1225"
            ]
          },
          "metadata": {},
          "execution_count": 65
        }
      ]
    },
    {
      "cell_type": "code",
      "metadata": {
        "id": "XAFXQiSPGVGE"
      },
      "source": [
        "# this model is 324 (input size) -> 256 -> 128 128 -> 256 -> 1225 (output size)\n",
        "\n",
        "model = Sequential()\n",
        "model.add(Dense(256, activation=\"relu\", input_dim=img_row*img_col))\n",
        "model.add(Dense(128, activation=\"relu\"))\n",
        "model.add(Dense(56, activation=\"relu\"))\n",
        "model.add(Dense(128, activation=\"relu\"))\n",
        "model.add(Dense(256, activation=\"relu\"))\n",
        "'''I think we want our final image to be 70x70 from 35x35 (1225 to 4900) but doing so won't work'''\n",
        "model.add(Dense(ndim, activation=\"sigmoid\"))\n",
        "\n",
        "\n",
        "\n",
        "\n"
      ],
      "execution_count": null,
      "outputs": []
    },
    {
      "cell_type": "code",
      "metadata": {
        "id": "DVcza_KHX0In",
        "colab": {
          "base_uri": "https://localhost:8080/"
        },
        "outputId": "15c282e5-0a5f-43eb-a6ec-f65b583e0472"
      },
      "source": [
        "print(model.summary())"
      ],
      "execution_count": null,
      "outputs": [
        {
          "output_type": "stream",
          "name": "stdout",
          "text": [
            "Model: \"sequential_3\"\n",
            "_________________________________________________________________\n",
            " Layer (type)                Output Shape              Param #   \n",
            "=================================================================\n",
            " dense_12 (Dense)            (None, 256)               313856    \n",
            "                                                                 \n",
            " dense_13 (Dense)            (None, 128)               32896     \n",
            "                                                                 \n",
            " dense_14 (Dense)            (None, 56)                7224      \n",
            "                                                                 \n",
            " dense_15 (Dense)            (None, 128)               7296      \n",
            "                                                                 \n",
            " dense_16 (Dense)            (None, 256)               33024     \n",
            "                                                                 \n",
            " dense_17 (Dense)            (None, 2450)              629650    \n",
            "                                                                 \n",
            "=================================================================\n",
            "Total params: 1,023,946\n",
            "Trainable params: 1,023,946\n",
            "Non-trainable params: 0\n",
            "_________________________________________________________________\n",
            "None\n"
          ]
        }
      ]
    },
    {
      "cell_type": "code",
      "metadata": {
        "id": "d9Ns609AhOM_"
      },
      "source": [
        "model.compile(optimizer=\"adadelta\", loss=\"mean_squared_error\")"
      ],
      "execution_count": null,
      "outputs": []
    },
    {
      "cell_type": "markdown",
      "metadata": {
        "id": "U2-USV-IaqeS"
      },
      "source": [
        "## 4 A train model "
      ]
    },
    {
      "cell_type": "code",
      "metadata": {
        "id": "gi9L466xzwkH",
        "colab": {
          "base_uri": "https://localhost:8080/"
        },
        "outputId": "b8dfcf4c-b54a-48eb-bb36-51de88d42dd3"
      },
      "source": [
        "# you can skip this and load the saved model\n",
        "history = model.fit(X_tr, y_tr, validation_data=(X_te, y_te), epochs=20, batch_size=100, verbose=1)"
      ],
      "execution_count": null,
      "outputs": [
        {
          "output_type": "stream",
          "name": "stdout",
          "text": [
            "Epoch 1/20\n",
            "11/11 [==============================] - 1s 24ms/step - loss: 0.0822 - val_loss: 0.0813\n",
            "Epoch 2/20\n",
            "11/11 [==============================] - 0s 10ms/step - loss: 0.0822 - val_loss: 0.0813\n",
            "Epoch 3/20\n",
            "11/11 [==============================] - 0s 9ms/step - loss: 0.0822 - val_loss: 0.0813\n",
            "Epoch 4/20\n",
            "11/11 [==============================] - 0s 10ms/step - loss: 0.0822 - val_loss: 0.0813\n",
            "Epoch 5/20\n",
            "11/11 [==============================] - 0s 9ms/step - loss: 0.0822 - val_loss: 0.0813\n",
            "Epoch 6/20\n",
            "11/11 [==============================] - 0s 11ms/step - loss: 0.0822 - val_loss: 0.0813\n",
            "Epoch 7/20\n",
            "11/11 [==============================] - 0s 10ms/step - loss: 0.0822 - val_loss: 0.0813\n",
            "Epoch 8/20\n",
            "11/11 [==============================] - 0s 11ms/step - loss: 0.0822 - val_loss: 0.0813\n",
            "Epoch 9/20\n",
            "11/11 [==============================] - 0s 10ms/step - loss: 0.0822 - val_loss: 0.0813\n",
            "Epoch 10/20\n",
            "11/11 [==============================] - 0s 11ms/step - loss: 0.0822 - val_loss: 0.0813\n",
            "Epoch 11/20\n",
            "11/11 [==============================] - 0s 11ms/step - loss: 0.0822 - val_loss: 0.0813\n",
            "Epoch 12/20\n",
            "11/11 [==============================] - 0s 10ms/step - loss: 0.0822 - val_loss: 0.0813\n",
            "Epoch 13/20\n",
            "11/11 [==============================] - 0s 10ms/step - loss: 0.0822 - val_loss: 0.0813\n",
            "Epoch 14/20\n",
            "11/11 [==============================] - 0s 10ms/step - loss: 0.0822 - val_loss: 0.0813\n",
            "Epoch 15/20\n",
            "11/11 [==============================] - 0s 10ms/step - loss: 0.0822 - val_loss: 0.0813\n",
            "Epoch 16/20\n",
            "11/11 [==============================] - 0s 10ms/step - loss: 0.0822 - val_loss: 0.0813\n",
            "Epoch 17/20\n",
            "11/11 [==============================] - 0s 11ms/step - loss: 0.0822 - val_loss: 0.0813\n",
            "Epoch 18/20\n",
            "11/11 [==============================] - 0s 10ms/step - loss: 0.0822 - val_loss: 0.0813\n",
            "Epoch 19/20\n",
            "11/11 [==============================] - 0s 10ms/step - loss: 0.0822 - val_loss: 0.0813\n",
            "Epoch 20/20\n",
            "11/11 [==============================] - 0s 11ms/step - loss: 0.0822 - val_loss: 0.0813\n"
          ]
        }
      ]
    },
    {
      "cell_type": "markdown",
      "metadata": {
        "id": "Jo2bsxMDazQW"
      },
      "source": [
        "## predict"
      ]
    },
    {
      "cell_type": "code",
      "metadata": {
        "id": "AcklN-01M8vk"
      },
      "source": [
        "outim = model.predict(X_te)"
      ],
      "execution_count": null,
      "outputs": []
    },
    {
      "cell_type": "code",
      "metadata": {
        "id": "ROEqgG3aM8yV"
      },
      "source": [
        "def compareinout(i, outim, X_tr):\n",
        "  '''function to plot the input, the prediction and the target in 3 columns\n",
        "  plots the ith training datum'''\n",
        "  fig = pl.figure(figsize(10,5))\n",
        "  ax = fig.add_subplot(131) \n",
        "  ax.imshow(X_te[i].reshape(imgs_lr[i].shape[:2]) , cmap=\"bone\")\n",
        "  ax.get_xaxis().set_visible(False)\n",
        "  ax.get_yaxis().set_visible(False)\n",
        "  ax = fig.add_subplot(132) \n",
        "  ax.imshow(outim[i].reshape(imgs_orig[i].shape[:2]) , cmap=\"bone\")\n",
        "  ax.get_xaxis().set_visible(False)\n",
        "  ax.get_yaxis().set_visible(False)\n",
        "  ax = fig.add_subplot(133) \n",
        "  ax.imshow(y_te[i].reshape(imgs_orig[i].shape[:2]) , cmap=\"bone\")\n",
        "  ax.get_xaxis().set_visible(False)\n",
        "  ax.get_yaxis().set_visible(False)\n"
      ],
      "execution_count": null,
      "outputs": []
    },
    {
      "cell_type": "code",
      "metadata": {
        "id": "J9sF8DJWoHfQ"
      },
      "source": [
        "def WRONGcompareinout(i, outim, X_tr):\n",
        "  '''function to plot the input, the prediction and the target in 3 columns\n",
        "  plots the ith training datum'''\n",
        "  fig = pl.figure(figsize(10,5))\n",
        "  ax = fig.add_subplot(131) \n",
        "  ax.imshow(X_te[i].reshape(imgs_lr[i].shape[:2]) , cmap=\"bone\")\n",
        "  ax.get_xaxis().set_visible(False)\n",
        "  ax.get_yaxis().set_visible(False)\n",
        "  ax = fig.add_subplot(132) \n",
        "  ax.imshow(outim[i].reshape(imgs_lr[i].shape[:2]) , cmap=\"bone\")\n",
        "  ax.get_xaxis().set_visible(False)\n",
        "  ax.get_yaxis().set_visible(False)\n",
        "  ax = fig.add_subplot(133) \n",
        "  ax.imshow(y_te[i].reshape(imgs_lr[i].shape[:2]) , cmap=\"bone\")\n",
        "  ax.get_xaxis().set_visible(False)\n",
        "  ax.get_yaxis().set_visible(False)\n"
      ],
      "execution_count": null,
      "outputs": []
    },
    {
      "cell_type": "code",
      "metadata": {
        "id": "ZsCU__LQM8sZ",
        "colab": {
          "base_uri": "https://localhost:8080/",
          "height": 1000
        },
        "outputId": "0b4912fe-9078-4891-8bac-366d02cf2d04"
      },
      "source": [
        "np.random.seed(123)\n",
        "# pick a few random test images\n",
        "for i in range(10):\n",
        "  j = np.random.randint(0, len(X_te))\n",
        "  print(i + 1, \":\\tinput\\t\\t      prediction\\t\\t  target\")\n",
        "  WRONGcompareinout(j, outim, X_te)\n",
        "  pl.show()"
      ],
      "execution_count": null,
      "outputs": [
        {
          "output_type": "stream",
          "name": "stdout",
          "text": [
            "1 :\tinput\t\t      prediction\t\t  target\n"
          ]
        },
        {
          "output_type": "display_data",
          "data": {
            "image/png": "[encoded data removed]",
            "text/plain": [
              "<Figure size 720x360 with 3 Axes>"
            ]
          },
          "metadata": {
            "needs_background": "light"
          }
        },
        {
          "output_type": "stream",
          "name": "stdout",
          "text": [
            "2 :\tinput\t\t      prediction\t\t  target\n"
          ]
        },
        {
          "output_type": "display_data",
          "data": {
            "image/png": "[encoded data removed]",
            "text/plain": [
              "<Figure size 720x360 with 3 Axes>"
            ]
          },
          "metadata": {
            "needs_background": "light"
          }
        },
        {
          "output_type": "stream",
          "name": "stdout",
          "text": [
            "3 :\tinput\t\t      prediction\t\t  target\n"
          ]
        },
        {
          "output_type": "display_data",
          "data": {
            "image/png": "[encoded data removed]",
            "text/plain": [
              "<Figure size 720x360 with 3 Axes>"
            ]
          },
          "metadata": {
            "needs_background": "light"
          }
        },
        {
          "output_type": "stream",
          "name": "stdout",
          "text": [
            "4 :\tinput\t\t      prediction\t\t  target\n"
          ]
        },
        {
          "output_type": "display_data",
          "data": {
            "image/png": "[encoded data removed]",
            "text/plain": [
              "<Figure size 720x360 with 3 Axes>"
            ]
          },
          "metadata": {
            "needs_background": "light"
          }
        },
        {
          "output_type": "stream",
          "name": "stdout",
          "text": [
            "5 :\tinput\t\t      prediction\t\t  target\n"
          ]
        },
        {
          "output_type": "display_data",
          "data": {
            "image/png": "[encoded data removed]",
            "text/plain": [
              "<Figure size 720x360 with 3 Axes>"
            ]
          },
          "metadata": {
            "needs_background": "light"
          }
        },
        {
          "output_type": "stream",
          "name": "stdout",
          "text": [
            "6 :\tinput\t\t      prediction\t\t  target\n"
          ]
        },
        {
          "output_type": "display_data",
          "data": {
            "image/png": "[encoded data removed]",
            "text/plain": [
              "<Figure size 720x360 with 3 Axes>"
            ]
          },
          "metadata": {
            "needs_background": "light"
          }
        },
        {
          "output_type": "stream",
          "name": "stdout",
          "text": [
            "7 :\tinput\t\t      prediction\t\t  target\n"
          ]
        },
        {
          "output_type": "display_data",
          "data": {
            "image/png": "[encoded data removed]",
            "text/plain": [
              "<Figure size 720x360 with 3 Axes>"
            ]
          },
          "metadata": {
            "needs_background": "light"
          }
        },
        {
          "output_type": "stream",
          "name": "stdout",
          "text": [
            "8 :\tinput\t\t      prediction\t\t  target\n"
          ]
        },
        {
          "output_type": "display_data",
          "data": {
            "image/png": "[encoded data removed]",
            "text/plain": [
              "<Figure size 720x360 with 3 Axes>"
            ]
          },
          "metadata": {
            "needs_background": "light"
          }
        },
        {
          "output_type": "stream",
          "name": "stdout",
          "text": [
            "9 :\tinput\t\t      prediction\t\t  target\n"
          ]
        },
        {
          "output_type": "display_data",
          "data": {
            "image/png": "[encoded data removed]",
            "text/plain": [
              "<Figure size 720x360 with 3 Axes>"
            ]
          },
          "metadata": {
            "needs_background": "light"
          }
        },
        {
          "output_type": "stream",
          "name": "stdout",
          "text": [
            "10 :\tinput\t\t      prediction\t\t  target\n"
          ]
        },
        {
          "output_type": "display_data",
          "data": {
            "image/png": "[encoded data removed]",
            "text/plain": [
              "<Figure size 720x360 with 3 Axes>"
            ]
          },
          "metadata": {
            "needs_background": "light"
          }
        }
      ]
    },
    {
      "cell_type": "markdown",
      "metadata": {
        "id": "9HIViBLyFT35"
      },
      "source": [
        "What do you think? some are pretty good right?! e.g. 1, 4, 6, 7, 8\n",
        "\n",
        "Some are really bad. 9... why?"
      ]
    },
    {
      "cell_type": "markdown",
      "metadata": {
        "id": "CoglgR7UBzId"
      },
      "source": [
        "## OPTIONA (EC): show the latent representation of the data: the bottleneck layer output\n",
        "\n",
        "find a visualization that works for you"
      ]
    },
    {
      "cell_type": "markdown",
      "metadata": {
        "id": "Mk9UpMzNCQxc"
      },
      "source": [
        "# test the model on your own image\n",
        " depending on the initial size you will have to downsample the image, and extract a single color layer"
      ]
    },
    {
      "cell_type": "code",
      "metadata": {
        "id": "Qtnzijr4aKiq"
      },
      "source": [
        "imme = Image.open(\"data/myimage.png\")"
      ],
      "execution_count": null,
      "outputs": []
    },
    {
      "cell_type": "markdown",
      "metadata": {
        "id": "1MbDdOuzCtp3"
      },
      "source": [
        "low resolution version\n",
        "subsampling by 15"
      ]
    },
    {
      "cell_type": "markdown",
      "metadata": {
        "id": "gY9XrOylrw6N"
      },
      "source": [
        "# is it good? if not why not?"
      ]
    },
    {
      "cell_type": "code",
      "metadata": {
        "id": "0Xn22HV8EJrD"
      },
      "source": [
        ""
      ],
      "execution_count": null,
      "outputs": []
    }
  ]
}