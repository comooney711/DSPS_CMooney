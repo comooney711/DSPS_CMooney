{
  "nbformat": 4,
  "nbformat_minor": 0,
  "metadata": {
    "anaconda-cloud": {},
    "kernelspec": {
      "display_name": "Python 3",
      "language": "python",
      "name": "python3"
    },
    "language_info": {
      "codemirror_mode": {
        "name": "ipython",
        "version": 3
      },
      "file_extension": ".py",
      "mimetype": "text/x-python",
      "name": "python",
      "nbconvert_exporter": "python",
      "pygments_lexer": "ipython3",
      "version": "3.7.3"
    },
    "latex_envs": {
      "LaTeX_envs_menu_present": true,
      "autoclose": false,
      "autocomplete": true,
      "bibliofile": "biblio.bib",
      "cite_by": "apalike",
      "current_citInitial": 1,
      "eqLabelWithNumbers": true,
      "eqNumInitial": 1,
      "hotkeys": {
        "equation": "Ctrl-E",
        "itemize": "Ctrl-I"
      },
      "labels_anchors": false,
      "latex_user_defs": false,
      "report_style_numbering": false,
      "user_envs_cfg": false
    },
    "nbTranslate": {
      "displayLangs": [
        "*"
      ],
      "hotkey": "alt-t",
      "langInMainMenu": true,
      "sourceLang": "en",
      "targetLang": "fr",
      "useGoogleTranslate": true
    },
    "toc": {
      "base_numbering": 1,
      "nav_menu": {},
      "number_sections": true,
      "sideBar": true,
      "skip_h1_title": false,
      "title_cell": "Table of Contents",
      "title_sidebar": "Contents",
      "toc_cell": false,
      "toc_position": {},
      "toc_section_display": true,
      "toc_window_display": false
    },
    "colab": {
      "name": "Copy of CentralLimitTheorem.ipynb",
      "provenance": [],
      "include_colab_link": true
    }
  },
  "cells": [
    {
      "cell_type": "markdown",
      "metadata": {
        "id": "view-in-github",
        "colab_type": "text"
      },
      "source": [
        "<a href=\"https://colab.research.google.com/github/comooney711/DSPS_CMooney/blob/main/HW2/Copy_of_CentralLimitTheorem.ipynb\" target=\"_parent\"><img src=\"https://colab.research.google.com/assets/colab-badge.svg\" alt=\"Open In Colab\"/></a>"
      ]
    },
    {
      "cell_type": "markdown",
      "metadata": {
        "id": "kHfXPQ7pRwrS"
      },
      "source": [
        " Written by Federica B. Bianco @fedhere\n",
        "UDel DSPS\n",
        "\n",
        "Amended by Connor Mooney @comooney711, Nik Korzoun @nkorzounUD,\n",
        "Andrew Crossman @AndrewCrossman, Ben Flaggs @bflaggs\n",
        "\n",
        "GitHub usernames of each group member are listed after their respective names.\n",
        "\n",
        " # Homework 2\n",
        "\n",
        " This is a skeleton & instruction notebook\n",
        "\n",
        "-  GENERATE  100 samples of different sizes N (N>10 & N<2000) from each of 5 different distributions (500 samples in total), \n",
        " _all with the same population mean_. Include a _Normal_, a _Poisson_, a _Binomial_, a _Chi-Squared_ distribution, and 1 more of your choice.                                       \n",
        "-  For each sample plot the sample mean (dependent var.) against the sample size N (independent var.) (if you want you can do it with the sample standard deviation as well). \n",
        "-  Describe the behavior you see in the plots in terms of the law of large numbers.\n",
        "-  PLOT the distributions of all sample means (together for all distributions). _Mandatory_: as a histogram. _Optional_: in any other way you think is convincing\n",
        "-  Extra Credit (required for 661 students): FIT a gaussian to the distribution of means            "
      ]
    },
    {
      "cell_type": "code",
      "metadata": {
        "ExecuteTime": {
          "end_time": "2019-09-04T18:40:29.989386Z",
          "start_time": "2019-09-04T18:40:29.957973Z"
        },
        "colab": {
          "base_uri": "https://localhost:8080/"
        },
        "id": "qw_BiupARwrU",
        "outputId": "6c0f5163-31ef-4cbf-b9e3-46845a7112ef"
      },
      "source": [
        "from __future__ import print_function\n",
        "__author__= 'Connor Mooney, Nik Korzoun, Andrew Crossman, Ben Flaggs'\n",
        "\n",
        "import pylab as pl\n",
        "# this package sets up pretty plots\n",
        "from scipy.optimize import curve_fit, minimize\n",
        "    \n",
        "%pylab inline\n",
        "import seaborn\n",
        "seaborn.set_style(\"darkgrid\")\n",
        "from scipy.stats import semicircular"
      ],
      "execution_count": null,
      "outputs": [
        {
          "output_type": "stream",
          "name": "stdout",
          "text": [
            "Populating the interactive namespace from numpy and matplotlib\n"
          ]
        }
      ]
    },
    {
      "cell_type": "markdown",
      "metadata": {
        "id": "vMAc_-S_RwrV"
      },
      "source": [
        "## choose which distributions to use "
      ]
    },
    {
      "cell_type": "code",
      "metadata": {
        "ExecuteTime": {
          "end_time": "2019-09-04T18:40:30.736028Z",
          "start_time": "2019-09-04T18:40:30.732670Z"
        },
        "id": "Ch8t4pHeRwrW"
      },
      "source": [
        "#distributions = ['pois', 'gaus', 'chisq', 'cauchy', 'lnorm', 'binomial']\n",
        "distributions = ['chisq']\n"
      ],
      "execution_count": null,
      "outputs": []
    },
    {
      "cell_type": "markdown",
      "metadata": {
        "collapsed": true,
        "id": "Z9BvEMwERwrW"
      },
      "source": [
        "## and which *population* mean to give it"
      ]
    },
    {
      "cell_type": "code",
      "metadata": {
        "ExecuteTime": {
          "end_time": "2019-09-04T18:40:33.116279Z",
          "start_time": "2019-09-04T18:40:33.111440Z"
        },
        "id": "L6ueeCkqRwrW"
      },
      "source": [
        "mymean = 100"
      ],
      "execution_count": null,
      "outputs": []
    },
    {
      "cell_type": "markdown",
      "metadata": {
        "id": "hUGiQLLGRwrX"
      },
      "source": [
        "# Let's see what this distribution looks like, what is the PDF, and how are the moments defined. Wikipedia is great for this! \n",
        "\n",
        "![1](https://raw.githubusercontent.com/fedhere/DSPS_2019/master/HW2/chisq1.png)\n",
        "\n",
        "![2](https://raw.githubusercontent.com/fedhere/DSPS_2019/master/HW2/chisq2.png)"
      ]
    },
    {
      "cell_type": "markdown",
      "metadata": {
        "id": "xWfLvAWFRwrX"
      },
      "source": [
        "# Then lets look at the numpy random sampling package to see how I create the distribution\n",
        "http://docs.scipy.org/doc/numpy/reference/routines.random.html\n",
        "http://docs.scipy.org/doc/numpy/reference/generated/numpy.random.chisquare.html#numpy.random.chisquare\n",
        "\n"
      ]
    },
    {
      "cell_type": "code",
      "metadata": {
        "ExecuteTime": {
          "end_time": "2019-09-04T18:40:35.884219Z",
          "start_time": "2019-09-04T18:40:35.881628Z"
        },
        "id": "2Krj_WX1RwrY"
      },
      "source": [
        "# the chi sq distribution takes the number of degrees of freedom, which luckily is the same as the mean!\n",
        "df = mymean"
      ],
      "execution_count": null,
      "outputs": []
    },
    {
      "cell_type": "markdown",
      "metadata": {
        "id": "sGr6jlfBRwrY"
      },
      "source": [
        "## I am making a dictionary to host the distributions.\n",
        "\n",
        "that is only one possible option. with a dictionary I can easily inspect the distribution I want by its name: it is a very human friendly data storage. In this example I am only using a single distribution, so for me it is overkill, but if I were doing the whole exercise with 5 or 6 distributions it would be useful!\n",
        "\n",
        "Lets start by looking at a single chi sq distribution"
      ]
    },
    {
      "cell_type": "code",
      "metadata": {
        "ExecuteTime": {
          "end_time": "2019-09-04T18:42:24.156799Z",
          "start_time": "2019-09-04T18:42:23.900473Z"
        },
        "id": "0MRFi2AWRwrY",
        "colab": {
          "base_uri": "https://localhost:8080/",
          "height": 279
        },
        "outputId": "93cbed77-e88f-472e-8701-1bd01ffe6224"
      },
      "source": [
        "# Note: I am adding imports here, to show the workflow: \n",
        "# at this point I realize what packages I need and I import them. \n",
        "# but this is a PEP8 violation. \n",
        "# It is a good habit to put the includes at the top \n",
        "# so the code fails right away if the packages are missing. \n",
        "# Otherwise a user may have a piece of code running for a long time, \n",
        "# and then fail when the package cannot be imported... \n",
        "# (unless they are only imported under conditions, e.g. in an if statement)\n",
        "\n",
        "import numpy as np\n",
        "np.random.seed(456)\n",
        "# prepare a container for all the distribution: \n",
        "# a dictionary so you can call each family of distribution by \"key\" \n",
        "md = {}\n",
        "# md is an empty disctionary; \n",
        "# if you are not familiar with python dictionaries see https://www.pythonforbeginners.com/dictionary/how-to-use-dictionaries-in-python\n",
        "md['chisq'] = np.random.chisquare(mymean, size=100)\n",
        "# md now is a dictionary with one object: an array by the key 'chisq'\n",
        "pl.hist(md['chisq'], bins = 30)\n",
        "pl.ylabel('N')\n",
        "pl.xlabel('x');"
      ],
      "execution_count": null,
      "outputs": [
        {
          "output_type": "display_data",
          "data": {
            "image/png": "[encoded data removed]",
            "text/plain": [
              "<Figure size 432x288 with 1 Axes>"
            ]
          },
          "metadata": {}
        }
      ]
    },
    {
      "cell_type": "markdown",
      "metadata": {
        "id": "S01olP2CRwrZ"
      },
      "source": [
        "### Figure 1: Chi sq distribution of a sample of size 100 for a Chi square distribution with  100 degrees of freedom. "
      ]
    },
    {
      "cell_type": "markdown",
      "metadata": {
        "id": "vqqEjKbzRwrZ"
      },
      "source": [
        "## let numpy calculate what the mean and stdev of this distribution are"
      ]
    },
    {
      "cell_type": "code",
      "metadata": {
        "ExecuteTime": {
          "end_time": "2019-09-04T18:42:32.656167Z",
          "start_time": "2019-09-04T18:42:32.645619Z"
        },
        "id": "1XQWgHBYRwrZ",
        "colab": {
          "base_uri": "https://localhost:8080/"
        },
        "outputId": "bd4418fe-50f1-4e58-e76f-4974582269b2"
      },
      "source": [
        "print (\"Chisq mean: %.2f, standard deviation: %.2f\"%( md['chisq'].mean(), md['chisq'].std() ) )"
      ],
      "execution_count": null,
      "outputs": [
        {
          "output_type": "stream",
          "name": "stdout",
          "text": [
            "Chisq mean: 100.09, standard deviation: 13.24\n"
          ]
        }
      ]
    },
    {
      "cell_type": "markdown",
      "metadata": {
        "id": "weyYxkXqRwrZ"
      },
      "source": [
        "## Now let's do it for 100 Chisq distributions\n",
        "we want distributions of different sizes (all integers between 10 and 2000). It's a good idea to create more small distributions, cause, as we will see, their means will be more noisy (due to the law of large numbers which we discussed in class). Here are some tricks to create the distribution sizes "
      ]
    },
    {
      "cell_type": "code",
      "metadata": {
        "ExecuteTime": {
          "end_time": "2019-09-04T18:48:54.103615Z",
          "start_time": "2019-09-04T18:48:54.099189Z"
        },
        "colab": {
          "base_uri": "https://localhost:8080/"
        },
        "id": "9whn0HY9Rwra",
        "outputId": "37b6d1ae-7caa-4d65-9f6e-6dc3ec59d382"
      },
      "source": [
        "mysize = (2000 / (np.array(range(1, 100, 1)))).astype(int)\n",
        "#mysize = 1000 / (np.array(range(1, 100) + [10]))\n",
        "#mysize = (np.random.rand(100) * 1000).astype(int)\n",
        "print( mysize  )\n",
        "\n",
        "print (\"shape of the 'size' list that contains the size of each distribution\", mysize.shape)"
      ],
      "execution_count": null,
      "outputs": [
        {
          "output_type": "stream",
          "name": "stdout",
          "text": [
            "[2000 1000  666  500  400  333  285  250  222  200  181  166  153  142\n",
            "  133  125  117  111  105  100   95   90   86   83   80   76   74   71\n",
            "   68   66   64   62   60   58   57   55   54   52   51   50   48   47\n",
            "   46   45   44   43   42   41   40   40   39   38   37   37   36   35\n",
            "   35   34   33   33   32   32   31   31   30   30   29   29   28   28\n",
            "   28   27   27   27   26   26   25   25   25   25   24   24   24   23\n",
            "   23   23   22   22   22   22   21   21   21   21   21   20   20   20\n",
            "   20]\n",
            "shape of the 'size' list that contains the size of each distribution (99,)\n"
          ]
        }
      ]
    },
    {
      "cell_type": "code",
      "metadata": {
        "ExecuteTime": {
          "end_time": "2019-09-04T18:49:24.365207Z",
          "start_time": "2019-09-04T18:49:24.216832Z"
        },
        "colab": {
          "base_uri": "https://localhost:8080/",
          "height": 279
        },
        "id": "mVweODwPRwra",
        "outputId": "c52e8c3e-5361-450d-d30e-772c0930d9cd"
      },
      "source": [
        "pl.plot(mysize, '.')\n",
        "pl.xlabel(\"index\")\n",
        "pl.ylabel(\"size of the distributions to be created\");"
      ],
      "execution_count": null,
      "outputs": [
        {
          "output_type": "display_data",
          "data": {
            "image/png": "[encoded data removed]",
            "text/plain": [
              "<Figure size 432x288 with 1 Axes>"
            ]
          },
          "metadata": {}
        }
      ]
    },
    {
      "cell_type": "code",
      "metadata": {
        "ExecuteTime": {
          "end_time": "2019-09-04T18:51:25.020587Z",
          "start_time": "2019-09-04T18:51:24.613971Z"
        },
        "id": "XaaWi4FeRwra",
        "colab": {
          "base_uri": "https://localhost:8080/",
          "height": 433
        },
        "outputId": "25c6466d-7263-4bd8-b80c-9d0293732759"
      },
      "source": [
        "# I am gonna create a new dictionary \"md\" the dictionary entry created into a nested dictionary \n",
        "# the outside dictionary hosts the distributions as dictionary, \n",
        "# and each distribution dictionary contains the 100 distribution (arrays of diferent sizes)\n",
        "\n",
        "md['chisq'] = {} \n",
        "#and do it in a for loop. not pythonic, but easily readable\n",
        "for n in range(len(mysize)):\n",
        "    md['chisq'][n] = np.random.chisquare(df, size = mysize[n]) #all distributions have mean=df=100\n",
        "  \n",
        "\n",
        "# save the means for plotting later    \n",
        "\n",
        "md['chisq']['means'] = {}\n",
        "axchisq_mu_n = pl.figure(figsize=(10,6)).add_subplot(111)\n",
        "for nn in md['chisq']:\n",
        "    if not type(nn) == str:\n",
        "        md['chisq']['means'][nn] = md['chisq'][nn].mean()\n",
        "        #and plot it\n",
        "        axchisq_mu_n.plot(mysize[nn], md['chisq']['means'][nn], 'o')\n",
        "        axchisq_mu_n.set_xlabel('sample size', fontsize=18)\n",
        "        axchisq_mu_n.set_ylabel('sample mean', fontsize=18)\n",
        "        axchisq_mu_n.set_title('Chi squared', fontsize=18)\n",
        "        axchisq_mu_n.plot([min(mysize), max(mysize)], [df, df], 'k')\n",
        "axchisq_mu_n.text(axchisq_mu_n.get_xlim()[1] * .6, 100, \"expected mean\", \n",
        "                  va=\"bottom\", fontsize=20)\n"
      ],
      "execution_count": null,
      "outputs": [
        {
          "output_type": "execute_result",
          "data": {
            "text/plain": [
              "Text(1259.3999999999999, 100, 'expected mean')"
            ]
          },
          "metadata": {},
          "execution_count": 53
        },
        {
          "output_type": "display_data",
          "data": {
            "image/png": "[encoded data removed]",
            "text/plain": [
              "<Figure size 720x432 with 1 Axes>"
            ]
          },
          "metadata": {}
        }
      ]
    },
    {
      "cell_type": "markdown",
      "metadata": {
        "id": "XKJ50Ll4Rwrc"
      },
      "source": [
        "### Figure 2: Mean value of Chi Squared distribution with 100 degrees of freedom, as a function of sample size. Mean becomes closer to expected value as sample size increases."
      ]
    },
    {
      "cell_type": "markdown",
      "metadata": {
        "id": "Fx7EiYL9Rwrc"
      },
      "source": [
        "# now the histogram of the mean of all samples: \n",
        "## this requires some data wrangling, since i put the data in a dictionary which is a user friendly data structure, but perhaps not the most machine friendly one\n",
        "\n",
        "a coder friendly, though not terribly pythonic way to do it is to append each mean in a list in a for loop, and then hist that. be careful: if your data size gets large this becomes a very bad idea!!"
      ]
    },
    {
      "cell_type": "code",
      "metadata": {
        "ExecuteTime": {
          "end_time": "2019-09-04T04:48:50.676579Z",
          "start_time": "2019-09-04T04:48:50.506157Z"
        },
        "id": "y_vcS_uuRwrd",
        "colab": {
          "base_uri": "https://localhost:8080/",
          "height": 631
        },
        "outputId": "102ef4b9-905f-4c8a-e25f-204df81268d3"
      },
      "source": [
        "allmeans = list(md['chisq']['means'].values())\n",
        "pl.figure(figsize=(10, 10))\n",
        "pl.hist(allmeans,bins=30)\n",
        "pl.xlabel('sample mean', fontsize = 18)\n",
        "pl.ylabel('N', fontsize = 18)"
      ],
      "execution_count": null,
      "outputs": [
        {
          "output_type": "execute_result",
          "data": {
            "text/plain": [
              "Text(0, 0.5, 'N')"
            ]
          },
          "metadata": {},
          "execution_count": 54
        },
        {
          "output_type": "display_data",
          "data": {
            "image/png": "[encoded data removed]",
            "text/plain": [
              "<Figure size 720x720 with 1 Axes>"
            ]
          },
          "metadata": {}
        }
      ]
    },
    {
      "cell_type": "markdown",
      "metadata": {
        "id": "PauosNfwRwrd"
      },
      "source": [
        "## Figure 3: Histogram of the means of 100 chi square distributions with varying sizes"
      ]
    },
    {
      "cell_type": "markdown",
      "metadata": {
        "collapsed": true,
        "id": "guYI9Y4LRwrd"
      },
      "source": [
        "# Do it for the Normal distribution\n"
      ]
    },
    {
      "cell_type": "code",
      "metadata": {
        "id": "sDBWQek2Rwrd",
        "colab": {
          "base_uri": "https://localhost:8080/"
        },
        "outputId": "4a2a456f-8d3a-46c3-88aa-41471331ccc3"
      },
      "source": [
        "md['norm']={}\n",
        "for n in range(len(mysize)):\n",
        "  md['norm'][n]=np.random.normal(mymean, size=mysize[n])\n",
        "\n",
        "md['norm']['means']={}\n",
        "axnorm_mu_n = pl.figure(figsize=(10,6)).add_subplot(111)\n",
        "\n",
        "for nn in md['norm']:\n",
        "    if not type(nn) == str:\n",
        "        md['norm']['means'][nn] = md['norm'][nn].mean()\n",
        "        axnorm_mu_n.plot(mysize[nn], md['norm']['means'][nn], 'o')\n",
        "        axnorm_mu_n.set_xlabel('sample size', fontsize=18)\n",
        "        axnorm_mu_n.set_ylabel('sample mean', fontsize=18)\n",
        "        axnorm_mu_n.set_title('Normal', fontsize=18)\n",
        "        axnorm_mu_n.plot([min(mysize), max(mysize)], [mymean, mymean], 'k')\n",
        "axnorm_mu_n.text(axnorm_mu_n.get_xlim()[1] * .6, 100, \"expected mean\", \n",
        "                  va=\"bottom\", fontsize=20)\n",
        "\n"
      ],
      "execution_count": null,
      "outputs": [
        {
          "output_type": "execute_result",
          "data": {
            "text/plain": [
              "Text(1259.3999999999999, 100, 'expected mean')"
            ]
          },
          "metadata": {},
          "execution_count": 55
        },
        {
          "output_type": "display_data",
          "data": {
            "image/png": "[encoded data removed]",
            "text/plain": [
              "<Figure size 720x432 with 1 Axes>"
            ]
          },
          "metadata": {}
        }
      ]
    },
    {
      "cell_type": "markdown",
      "metadata": {
        "id": "bJ5XzUHqhtxf"
      },
      "source": [
        "### Figure 4: Mean value of Normal distributions with mean 100 as a function of sample size. Mean becomes closer to expected value as sample size increases."
      ]
    },
    {
      "cell_type": "markdown",
      "metadata": {
        "collapsed": true,
        "id": "KWp-52O_Rwrd"
      },
      "source": [
        "# Do it for the Poisson distribution"
      ]
    },
    {
      "cell_type": "code",
      "metadata": {
        "collapsed": true,
        "id": "ankH4mx_Rwrd"
      },
      "source": [
        "md['pois']={}\n",
        "for n in range(len(mysize)):\n",
        "  md['pois'][n]=np.random.poisson(mymean, size=mysize[n])\n",
        "\n",
        "md['pois']['means']={}\n",
        "axpois_mu_n = pl.figure(figsize=(10,6)).add_subplot(111)\n",
        "\n",
        "for nn in md['pois']:\n",
        "    if not type(nn) == str:\n",
        "        md['pois']['means'][nn] = md['pois'][nn].mean()\n",
        "        axpois_mu_n.plot(mysize[nn], md['pois']['means'][nn], 'o')\n",
        "        axpois_mu_n.set_xlabel('sample size', fontsize=18)\n",
        "        axpois_mu_n.set_ylabel('sample mean', fontsize=18)\n",
        "        axpois_mu_n.set_title('Poisson', fontsize=18)\n",
        "        axpois_mu_n.plot([min(mysize), max(mysize)], [mymean, mymean], 'k')\n",
        "axpois_mu_n.text(axpois_mu_n.get_xlim()[1] * .6, 100, \"expected mean\", \n",
        "                  va=\"bottom\", fontsize=20)"
      ],
      "execution_count": null,
      "outputs": []
    },
    {
      "cell_type": "markdown",
      "metadata": {
        "id": "TgF825m3iS-4"
      },
      "source": [
        "### Figure 5: Mean value of Poisson distributions with mean 100 as a function of sample size. Mean becomes closer to expected value as sample size increases."
      ]
    },
    {
      "cell_type": "markdown",
      "metadata": {
        "id": "MnwuGhVxRwrd"
      },
      "source": [
        "# Do it for the Binomial distribution"
      ]
    },
    {
      "cell_type": "code",
      "metadata": {
        "collapsed": true,
        "id": "9w-WbUR_Rwrd"
      },
      "source": [
        "md['bi']={}\n",
        "for n in range(len(mysize)):\n",
        "  md['bi'][n]=np.random.binomial(200,0.5, size=mysize[n])\n",
        "\n",
        "md['bi']['means']={}\n",
        "axbi_mu_n = pl.figure(figsize=(10,6)).add_subplot(111)\n",
        "\n",
        "for nn in md['bi']:\n",
        "    if not type(nn) == str:\n",
        "        md['bi']['means'][nn] = md['bi'][nn].mean()\n",
        "        axbi_mu_n.plot(mysize[nn], md['bi']['means'][nn], 'o')\n",
        "        axbi_mu_n.set_xlabel('sample size', fontsize=18)\n",
        "        axbi_mu_n.set_ylabel('sample mean', fontsize=18)\n",
        "        axbi_mu_n.set_title('Binomial', fontsize=18)\n",
        "        axbi_mu_n.plot([min(mysize), max(mysize)], [mymean, mymean], 'k')\n",
        "axbi_mu_n.text(axbi_mu_n.get_xlim()[1] * .6, 100, \"expected mean\", \n",
        "                  va=\"bottom\", fontsize=20)"
      ],
      "execution_count": null,
      "outputs": []
    },
    {
      "cell_type": "markdown",
      "metadata": {
        "id": "UZX8lqV8iZao"
      },
      "source": [
        "### Figure 6: Mean value of Binomial distributions with mean 100 as a function of sample size. Mean becomes closer to expected value as sample size increases."
      ]
    },
    {
      "cell_type": "markdown",
      "metadata": {
        "id": "DZhHD6GZRwre"
      },
      "source": [
        "# Do it for another distribution"
      ]
    },
    {
      "cell_type": "code",
      "metadata": {
        "collapsed": true,
        "id": "PerSauZvRwre"
      },
      "source": [
        "md['semic']={}\n",
        "for n in range(len(mysize)):\n",
        "  md['semic'][n]= semicircular.rvs(loc=100,size=mysize[n])\n",
        "\n",
        "md['semic']['means']={}\n",
        "axsemic_mu_n = pl.figure(figsize=(10,6)).add_subplot(111)\n",
        "\n",
        "for nn in md['semic']:\n",
        "    if not type(nn) == str:\n",
        "        md['semic']['means'][nn] = md['semic'][nn].mean()\n",
        "        axsemic_mu_n.plot(mysize[nn], md['semic']['means'][nn], 'o')\n",
        "        axsemic_mu_n.set_xlabel('sample size', fontsize=18)\n",
        "        axsemic_mu_n.set_ylabel('sample mean', fontsize=18)\n",
        "        axsemic_mu_n.set_title('Wigner Semicircular', fontsize=18)\n",
        "        axsemic_mu_n.plot([min(mysize), max(mysize)], [mymean, mymean], 'k')\n",
        "axsemic_mu_n.text(axsemic_mu_n.get_xlim()[1] * .6, 100, \"expected mean\", \n",
        "                  va=\"bottom\", fontsize=20)"
      ],
      "execution_count": null,
      "outputs": []
    },
    {
      "cell_type": "markdown",
      "metadata": {
        "id": "L6qg_85GikT4"
      },
      "source": [
        "### Figure 7: Mean value of Wigner Semicircular distributions with mean 100 as a function of sample size. Mean becomes closer to expected value as sample size increases. "
      ]
    },
    {
      "cell_type": "code",
      "metadata": {
        "id": "bKi_Zl1MlxmV"
      },
      "source": [
        "Chimeans = list(md['chisq']['means'].values())\n",
        "Normmeans = list(md['norm']['means'].values())\n",
        "Bimeans = list(md['bi']['means'].values())\n",
        "Poismeans = list(md['pois']['means'].values())\n",
        "Semicmeans = list(md['semic']['means'].values())\n",
        "\n",
        "pl.figure(figsize=(10, 10))\n",
        "\n",
        "pl.hist(Chimeans,bins=30, label='Chi Squared',alpha=0.6 )\n",
        "pl.hist(Normmeans,bins=30, label='Normal',alpha=0.6)\n",
        "pl.hist(Bimeans,bins=30, label='Binomial',alpha=0.6)\n",
        "pl.hist(Poismeans,bins=30, label='Poisson',alpha=0.6)\n",
        "pl.hist(Semicmeans,bins=30, label='Semicircle',alpha=0.3)\n",
        "\n",
        "pl.xlabel('sample mean', fontsize = 18)\n",
        "pl.ylabel('N', fontsize = 18)\n",
        "pl.legend(loc = 'upper left')\n",
        "pl.show()\n",
        "\n",
        "#pl.hist(Semicmeans)\n",
        "#pl.show()\n",
        "\n"
      ],
      "execution_count": null,
      "outputs": []
    },
    {
      "cell_type": "markdown",
      "metadata": {
        "id": "vZcm5R5J5Zq1"
      },
      "source": [
        "## Figure 8: Histograms of the means of a particular distribution sampled 100 times at varying sizes. Each distribution peaks near the expected value."
      ]
    },
    {
      "cell_type": "markdown",
      "metadata": {
        "collapsed": true,
        "id": "TjqCHR1rRwre"
      },
      "source": [
        "# 661 students: fit  a Gaussian to the histogram of the means for each distribution"
      ]
    },
    {
      "cell_type": "markdown",
      "metadata": {
        "id": "-wwVK-FNRwre"
      },
      "source": [
        "to fit a curve to data you can, for example, use scipy.optimize.curve_fit(). Your y value should be the hight of each histogram bin, which you can extract by capturing the output of pl.hist() when you plot the histogram. \n",
        "(be careful that the x axis and the y axis are not the same size when you extract them from the pl.hist function cause the x represents the **edges** while what you want is the **centers** of each bin"
      ]
    },
    {
      "cell_type": "code",
      "metadata": {
        "ExecuteTime": {
          "end_time": "2019-09-04T18:53:15.952372Z",
          "start_time": "2019-09-04T18:53:15.806867Z"
        },
        "id": "-z8TVkFPRwre"
      },
      "source": [
        "#pl.hist(allmeans,bins=30)"
      ],
      "execution_count": null,
      "outputs": []
    },
    {
      "cell_type": "markdown",
      "metadata": {
        "id": "3RTcrKNMRwre"
      },
      "source": [
        "And you can create your own Gaussian function to pass to curve_fit as this for example: "
      ]
    },
    {
      "cell_type": "code",
      "metadata": {
        "ExecuteTime": {
          "end_time": "2019-09-04T18:55:42.467341Z",
          "start_time": "2019-09-04T18:55:42.463133Z"
        },
        "id": "DX_WtR_5Rwre"
      },
      "source": [
        "def gaussian(x, a, b, c):\n",
        "  '''Defines a non-normalized Gaussian function.\n",
        "\n",
        "  Parameters:\n",
        "  x -- independent variable\n",
        "  a -- height of Gaussian\n",
        "  b -- center of Gaussian\n",
        "  c -- standard deviation of Gaussian (c**2 = variance)\n",
        "  '''\n",
        "  return a * np.exp(-0.5 * (x - b)**2 / c**2)\n"
      ],
      "execution_count": null,
      "outputs": []
    },
    {
      "cell_type": "markdown",
      "metadata": {
        "id": "3HlZfrPGRwre"
      },
      "source": [
        "Or you can use existing functions (scipy has one, but it would be instructive for you to write it yourself!)"
      ]
    },
    {
      "cell_type": "markdown",
      "metadata": {
        "id": "sxASyOxg89vg"
      },
      "source": [
        "# Fit Gaussian to Chisq distribution"
      ]
    },
    {
      "cell_type": "code",
      "metadata": {
        "id": "n8d_GSQ7Rwre"
      },
      "source": [
        "pl.figure(figsize=(12, 10))\n",
        "yvals, binedges, patches = pl.hist(Chimeans,bins=30, color='blue',\n",
        "                                   label='Chi Squared Data')\n",
        "\n",
        "xvals = np.zeros(len(binedges)-1)\n",
        "\n",
        "for i in range(len(binedges)-1):\n",
        "  midpoint = (binedges[i+1] - binedges[i]) / 2\n",
        "  xvals[i] = binedges[i] + midpoint\n",
        "\n",
        "popt, pcov = curve_fit(gaussian, xvals, yvals,\n",
        "                       bounds=([0.,97.,0.01], [20.,103.,20.]))\n",
        "\n",
        "xplotting = np.linspace(xvals[0] - 3, xvals[-1] + 3, 100)\n",
        "\n",
        "pl.plot(xplotting, gaussian(xplotting, *popt), color='red', linestyle='solid',\n",
        "        label=rf'Gaussian Fit: a={popt[0]:.2f}, b={popt[1]:.2f}, ' \\\n",
        "        f'c={popt[2]:.2f}', linewidth=3)\n",
        "\n",
        "pl.xlabel('sample mean', fontsize=18)\n",
        "pl.ylabel('N', fontsize=18)\n",
        "pl.title('Chi Squared w/ Gaussian Fit', fontsize=18)\n",
        "pl.legend(loc='best', fontsize=14);\n"
      ],
      "execution_count": null,
      "outputs": []
    },
    {
      "cell_type": "markdown",
      "metadata": {
        "id": "2oJn9UYq6Esp"
      },
      "source": [
        "## Figure 9: Fitting a Gaussian curve to a histogram sampled from a Chi squared distribution"
      ]
    },
    {
      "cell_type": "markdown",
      "metadata": {
        "id": "qeIPdpK236cd"
      },
      "source": [
        "# Fit Gaussian to Normal distribution"
      ]
    },
    {
      "cell_type": "code",
      "metadata": {
        "id": "QHyEn05l_qdQ"
      },
      "source": [
        "pl.figure(figsize=(12, 10))\n",
        "yvals, binedges, patches = pl.hist(Normmeans,bins=30, color='blue',\n",
        "                                   label='Normal Data')\n",
        "\n",
        "xvals = np.zeros(len(binedges)-1)\n",
        "\n",
        "for i in range(len(binedges)-1):\n",
        "  midpoint = (binedges[i+1] - binedges[i]) / 2\n",
        "  xvals[i] = binedges[i] + midpoint\n",
        "\n",
        "popt, pcov = curve_fit(gaussian, xvals, yvals,\n",
        "                       bounds=([0., 99.5, 0.01], [20., 100.5, 10.]))\n",
        "\n",
        "xplotting = np.linspace(xvals[0] - 0.5, xvals[-1] + 0.5, 100)\n",
        "\n",
        "pl.plot(xplotting, gaussian(xplotting, *popt), color='red', linestyle='solid',\n",
        "        label=rf'Gaussian Fit: a={popt[0]:.2f}, b={popt[1]:.2f}, ' \\\n",
        "        f'c={popt[2]:.2f}', linewidth=3)\n",
        "\n",
        "pl.xlabel('sample mean', fontsize=18)\n",
        "pl.ylabel('N', fontsize=18)\n",
        "pl.title('Normal w/ Gaussian Fit', fontsize=18)\n",
        "pl.legend(loc='upper left', fontsize=14);\n"
      ],
      "execution_count": null,
      "outputs": []
    },
    {
      "cell_type": "markdown",
      "metadata": {
        "id": "QOBlUIuu6Rjz"
      },
      "source": [
        "## Figure 10: Fitting a Gaussian curve to a histogram sampled from a normal distribution"
      ]
    },
    {
      "cell_type": "markdown",
      "metadata": {
        "id": "KA9mPV5y52B3"
      },
      "source": [
        "# Fit Gaussian to Binomial distribution"
      ]
    },
    {
      "cell_type": "code",
      "metadata": {
        "id": "zZC8HTsK5G0w"
      },
      "source": [
        "pl.figure(figsize=(12, 10))\n",
        "yvals, binedges, patches = pl.hist(Bimeans,bins=30, color='blue',\n",
        "                                   label='Binomial Data')\n",
        "\n",
        "xvals = np.zeros(len(binedges)-1)\n",
        "\n",
        "for i in range(len(binedges)-1):\n",
        "  midpoint = (binedges[i+1] - binedges[i]) / 2\n",
        "  xvals[i] = binedges[i] + midpoint\n",
        "\n",
        "popt, pcov = curve_fit(gaussian, xvals, yvals,\n",
        "                       bounds=([0., 99., 0.01], [20., 101., 10.]))\n",
        "\n",
        "xplotting = np.linspace(xvals[0] - 1, xvals[-1] + 1, 100)\n",
        "\n",
        "pl.plot(xplotting, gaussian(xplotting, *popt), color='red', linestyle='solid',\n",
        "        label=rf'Gaussian Fit: a={popt[0]:.2f}, b={popt[1]:.2f}, ' \\\n",
        "        f'c={popt[2]:.2f}', linewidth=3)\n",
        "\n",
        "pl.xlabel('sample mean', fontsize=18)\n",
        "pl.ylabel('N', fontsize=18)\n",
        "pl.title('Binomial w/ Gaussian Fit', fontsize=18)\n",
        "pl.legend(loc='best', fontsize=14);\n"
      ],
      "execution_count": null,
      "outputs": []
    },
    {
      "cell_type": "markdown",
      "metadata": {
        "id": "3oJjer5X6Y9d"
      },
      "source": [
        "## Figure 11: Fitting a Gaussian curve to a histogram sampled from a binomial distribution"
      ]
    },
    {
      "cell_type": "markdown",
      "metadata": {
        "id": "aJGtZPAS6xI_"
      },
      "source": [
        "# Fit Gaussian to Poisson distribution"
      ]
    },
    {
      "cell_type": "code",
      "metadata": {
        "id": "mJ_RaCh16ubo"
      },
      "source": [
        "pl.figure(figsize=(12, 10))\n",
        "yvals, binedges, patches = pl.hist(Poismeans,bins=30, color='blue',\n",
        "                                   label='Poisson Data')\n",
        "\n",
        "xvals = np.zeros(len(binedges)-1)\n",
        "\n",
        "for i in range(len(binedges)-1):\n",
        "  midpoint = (binedges[i+1] - binedges[i]) / 2\n",
        "  xvals[i] = binedges[i] + midpoint\n",
        "\n",
        "popt, pcov = curve_fit(gaussian, xvals, yvals,\n",
        "                       bounds=([0., 98., 0.01], [20., 102., 10.]))\n",
        "\n",
        "xplotting = np.linspace(xvals[0] - 1, xvals[-1] + 1, 100)\n",
        "\n",
        "pl.plot(xplotting, gaussian(xplotting, *popt), color='red', linestyle='solid',\n",
        "        label=rf'Gaussian Fit: a={popt[0]:.2f}, b={popt[1]:.2f}, ' \\\n",
        "        f'c={popt[2]:.2f}', linewidth=3)\n",
        "\n",
        "pl.xlabel('sample mean', fontsize=18)\n",
        "pl.ylabel('N', fontsize=18)\n",
        "pl.title('Poisson w/ Gaussian Fit', fontsize=18)\n",
        "pl.legend(loc='best', fontsize=14);\n"
      ],
      "execution_count": null,
      "outputs": []
    },
    {
      "cell_type": "markdown",
      "metadata": {
        "id": "B-6wURlR6dy4"
      },
      "source": [
        "## Figure 12: Fitting a Gaussian curve to a histogram sampled from a Poisson distribution"
      ]
    },
    {
      "cell_type": "markdown",
      "metadata": {
        "id": "jQ_xqAl57gkc"
      },
      "source": [
        "# Fit Gaussian to Semicircle distribution"
      ]
    },
    {
      "cell_type": "code",
      "metadata": {
        "id": "yUHGYI8X7V-K"
      },
      "source": [
        "pl.figure(figsize=(10, 10))\n",
        "yvals, binedges, patches = pl.hist(Semicmeans,bins=30, color='blue',\n",
        "                                   label='Semicircle Data')\n",
        "\n",
        "xvals = np.zeros(len(binedges)-1)\n",
        "\n",
        "for i in range(len(binedges)-1):\n",
        "  midpoint = (binedges[i+1] - binedges[i]) / 2\n",
        "  xvals[i] = binedges[i] + midpoint\n",
        "\n",
        "popt, pcov = curve_fit(gaussian, xvals, yvals,\n",
        "                       bounds=([0., 90., 0.01], [100., 110., 20.]))\n",
        "\n",
        "xplotting = np.linspace(xvals[0] - .07, xvals[-1] + .07, 100)\n",
        "\n",
        "pl.plot(xplotting, gaussian(xplotting, *popt), color='red', linestyle='solid',\n",
        "        label=rf'Gaussian Fit: a={popt[0]:.2f}, b={popt[1]:.2f}, ' \\\n",
        "        f'c={popt[2]:.2f}', linewidth=3)\n",
        "\n",
        "pl.xlabel('sample mean', fontsize=18)\n",
        "pl.ylabel('N', fontsize=18)\n",
        "pl.title('Wigner Semicircle w/ Gaussian Fit', fontsize=18)\n",
        "pl.legend(loc='best', fontsize=14);\n"
      ],
      "execution_count": null,
      "outputs": []
    },
    {
      "cell_type": "markdown",
      "metadata": {
        "id": "ttQbUOwS6jFD"
      },
      "source": [
        "## Figure 13: Fitting a Gaussian curve to a histogram sampled from a Wigner semicircular distribution"
      ]
    },
    {
      "cell_type": "code",
      "metadata": {
        "id": "3ecb47rF76ZS"
      },
      "source": [
        ""
      ],
      "execution_count": null,
      "outputs": []
    }
  ]
}